{
 "cells": [
  {
   "cell_type": "markdown",
   "id": "ad49d3c9",
   "metadata": {},
   "source": [
    "### <sapn style=\"color:Teal\"> __DIFFERENTIAL ABUNDANCE ANALYSIS__"
   ]
  },
  {
   "cell_type": "markdown",
   "id": "76e48188",
   "metadata": {},
   "source": [
    "Differential abundance analysis using Monte Carlo sampling is a robust statistical approach to identify microbial taxa whose abundances differ significantly between groups. In this method, the observed data are repeatedly resampled to generate a distribution of expected values under the null hypothesis, allowing estimation of p-values without relying on strict parametric assumptions. By comparing the actual abundance of each taxon to this simulated distribution, taxa that consistently show higher or lower abundances in a specific group can be identified as significantly associated. This approach is particularly useful for microbiome data, which are often sparse, compositional, and non-normally distributed, providing a flexible framework for detecting meaningful microbial differences while controlling for random variation."
   ]
  },
  {
   "cell_type": "code",
   "execution_count": 2,
   "id": "d7cc6871",
   "metadata": {},
   "outputs": [],
   "source": [
    "# LOADING REQUiRED PACKAGES AND LIBRARIES\n",
    "import pandas as pd\n",
    "import numpy as np\n",
    "import json\n",
    "import matplotlib.pyplot as plt\n",
    "from statsmodels.stats.multitest import multipletests\n",
    "from tqdm.notebook import tqdm\n",
    "import seaborn as sns"
   ]
  },
  {
   "cell_type": "code",
   "execution_count": 3,
   "id": "bbeaabaa",
   "metadata": {},
   "outputs": [],
   "source": [
    "df_genus= pd.read_csv('/mnt/iusers01/fatpou01/bmh01/msc-bioinf-2024-2025/h44063jg/gmp_jms/abundance_genus_data.txt', sep = '\\t')\n",
    "df_species = pd.read_csv('/mnt/iusers01/fatpou01/bmh01/msc-bioinf-2024-2025/h44063jg/gmp_jms/abundance_species_data.txt', sep = '\\t')"
   ]
  },
  {
   "cell_type": "code",
   "execution_count": 4,
   "id": "bf4d3cb2",
   "metadata": {},
   "outputs": [],
   "source": [
    "# IMPORT DISEASE DICTIONARY\n",
    "with open(\"/mnt/iusers01/fatpou01/bmh01/msc-bioinf-2024-2025/h44063jg/gmp_jms/disease_dict.json\", \"r\") as f:\n",
    "    disease_dict = json.load(f)"
   ]
  },
  {
   "cell_type": "markdown",
   "id": "9f898249",
   "metadata": {},
   "source": [
    "## __FILTERING__\n",
    "\n",
    "__FILTERING LOGIC APPLIED__\n",
    "The filtering strategy applied to the genus-level and species-level microbiome dataset is designed to ensure both statistical robustness and biological relevance in downstream analyses. First, unknown taxa lacking proper classification (i.e., those with `ncbi_taxon_id == -1`) are removed to maintain interpretability. Next, disease categories with fewer than **__60__** unique samples are excluded to ensure adequate statistical power for meaningful comparisons with the healthy group. Following sample-level filtering, taxon-level filtering is applied using a two-tiered approach based on prevalence and abundance. The **primary filter** retains only those taxa that are present in more than 0.1% of the total samples and have a minimum relative abundance greater than 0.001, effectively eliminating ultra-rare and consistently low-abundance taxa that likely represent noise. To complement this, a **secondary filter** is used to preserve biologically important taxa that might otherwise be excluded — it retains any taxon with either a prevalence above 1% or a minimum abundance exceeding 0.01. This dual-filtering strategy balances noise reduction with the need to preserve taxa that may be rare but highly abundant in specific contexts, such as disease-specific blooms or pathogenic organisms. Overall, the approach enhances the clarity, reliability, and interpretability of differential abundance and diversity analyses.\n",
    "\n",
    "To ensure that only biologically meaningful taxa are retained for downstream analysis, we apply a disease-specific filtering strategy based on both prevalence and maximum abundance. For each disease group, we evaluate every taxon independently. A taxon is retained within a disease group only if it meets two conditions: (1) it is present in at least 10% of samples from that disease (i.e., prevalence ≥ 10%), and (2) it reaches a relative abundance greater than 1% in at least one sample from that group. This filtering is done within each disease, rather than globally, ensuring that a taxon is only included where it shows meaningful presence and abundance. As a result, taxa that are rare, inconsistently present, or only appear with negligible abundance are excluded from each disease group individually, reducing noise and improving the biological relevance of the dataset.\n",
    "___\n"
   ]
  },
  {
   "cell_type": "code",
   "execution_count": 5,
   "id": "1d664c58",
   "metadata": {},
   "outputs": [
    {
     "name": "stdout",
     "output_type": "stream",
     "text": [
      "══════════════════════════════════════════════════════════════\n",
      "MICROBIOME TAXON FILTERING — DISEASE-SPECIFIC LOGIC\n",
      "──────────────────────────────────────────────────────────────\n",
      "Filtering Criteria:\n",
      " - Prevalence ≥ 10%\n",
      " - Max Relative Abundance > 1%\n",
      " - Filtering is done within each disease group independently\n",
      "══════════════════════════════════════════════════════════════\n",
      "\n"
     ]
    },
    {
     "name": "stdout",
     "output_type": "stream",
     "text": [
      "[Step 1] Removed unknown taxa: 30186 rows removed\n",
      "[Step 2] Valid diseases retained (≥30 samples): 66 diseases\n",
      "[Step 2] Remaining rows after disease filtering: 2249445\n",
      "[Step 3] Number of (disease, taxon) pairs before filtering: 45710\n",
      "[Step 4] (Disease, taxon) pairs retained after filtering: 5581\n",
      "[Step 4] Unique taxa retained: 520\n",
      "[Step 4] Diseases with retained taxa: 66\n",
      "[Step 5] Final retained rows: 1449781\n",
      "\n",
      "[Step 6] Number of unique taxa per disease: BEFORE vs AFTER filtering\n",
      "         taxa_before_filtering  taxa_after_filtering\n",
      "disease                                             \n",
      "D006262                   1613                   374\n",
      "D015212                   1517                   131\n",
      "D013274                   1431                   121\n",
      "D015179                   1380                   210\n",
      "D003924                   1330                   110\n",
      "...                        ...                   ...\n",
      "D001943                    117                    49\n",
      "D013167                    112                    39\n",
      "D014607                    103                    42\n",
      "D007234                     97                    58\n",
      "D050177                     67                    35\n",
      "\n",
      "[66 rows x 2 columns]\n"
     ]
    }
   ],
   "source": [
    "# GENUS LEVEL MONTE CARLO PERMUTATIION FOR IDENTIFICATION OF DIFFERENTAILLY ABUNDANT TAXA - GENUS LEVEL -STEP 1\n",
    "# ───────────────────────────────────────────────────────────────\n",
    "# FILTERING CRITERIA\n",
    "# ───────────────────────────────────────────────────────────────\n",
    "prevalence_threshold = 10  # in percentage\n",
    "abundance_threshold = 1    # in percentage\n",
    "\n",
    "print(\"══════════════════════════════════════════════════════════════\")\n",
    "print(\"MICROBIOME TAXON FILTERING — DISEASE-SPECIFIC LOGIC\")\n",
    "print(\"──────────────────────────────────────────────────────────────\")\n",
    "print(f\"Filtering Criteria:\")\n",
    "print(f\" - Prevalence ≥ {prevalence_threshold}%\")\n",
    "print(f\" - Max Relative Abundance > {abundance_threshold}%\")\n",
    "print(\" - Filtering is done within each disease group independently\")\n",
    "print(\"══════════════════════════════════════════════════════════════\\n\")\n",
    "\n",
    "# ───────────────────────────────────────────────────────────────\n",
    "# Step 1: Remove unknown taxa\n",
    "# ───────────────────────────────────────────────────────────────\n",
    "df_genus_cleaned = df_genus[df_genus['ncbi_taxon_id'] != -1].copy()\n",
    "print(f\"[Step 1] Removed unknown taxa: {df_genus.shape[0] - df_genus_cleaned.shape[0]} rows removed\")\n",
    "\n",
    "# ───────────────────────────────────────────────────────────────\n",
    "# Step 2: Remove diseases with <30 samples\n",
    "# ───────────────────────────────────────────────────────────────\n",
    "disease_sample_counts = (\n",
    "    df_genus_cleaned[['loaded_uid', 'disease']]\n",
    "    .drop_duplicates()\n",
    "    .groupby('disease')\n",
    "    .size()\n",
    ")\n",
    "\n",
    "valid_diseases = disease_sample_counts[disease_sample_counts >= 30].index\n",
    "df_genus_cleaned = df_genus_cleaned[df_genus_cleaned['disease'].isin(valid_diseases)].copy()\n",
    "\n",
    "print(f\"[Step 2] Valid diseases retained (≥30 samples): {len(valid_diseases)} diseases\")\n",
    "print(f\"[Step 2] Remaining rows after disease filtering: {df_genus_cleaned.shape[0]}\")\n",
    "\n",
    "# ───────────────────────────────────────────────────────────────\n",
    "# Step 3: Group by disease and taxon, calculate prevalence and max abundance\n",
    "# ───────────────────────────────────────────────────────────────\n",
    "grouped = (\n",
    "    df_genus_cleaned\n",
    "    .groupby(['disease', 'ncbi_taxon_id'])\n",
    "    .agg(\n",
    "        prevalence=('relative_abundance', lambda x: (x > 0).sum() / x.shape[0] * 100),\n",
    "        max_abundance=('relative_abundance', 'max')\n",
    "    )\n",
    "    .reset_index()\n",
    ")\n",
    "\n",
    "print(f\"[Step 3] Number of (disease, taxon) pairs before filtering: {grouped.shape[0]}\")\n",
    "\n",
    "# ───────────────────────────────────────────────────────────────\n",
    "# Step 4: Apply primary filter (prevalence ≥ 10% and max_abundance > 1)\n",
    "# ───────────────────────────────────────────────────────────────\n",
    "primary_mask = (grouped[\"prevalence\"] >= prevalence_threshold) & (grouped[\"max_abundance\"] > abundance_threshold)\n",
    "grouped_filtered = grouped[primary_mask]\n",
    "\n",
    "print(f\"[Step 4] (Disease, taxon) pairs retained after filtering: {grouped_filtered.shape[0]}\")\n",
    "print(f\"[Step 4] Unique taxa retained: {grouped_filtered['ncbi_taxon_id'].nunique()}\")\n",
    "print(f\"[Step 4] Diseases with retained taxa: {grouped_filtered['disease'].nunique()}\")\n",
    "\n",
    "# ───────────────────────────────────────────────────────────────\n",
    "# Step 5: Filter the full dataset to retain only the valid (disease, taxon) pairs\n",
    "# ───────────────────────────────────────────────────────────────\n",
    "df_genus_retained = df_genus_cleaned.merge(\n",
    "    grouped_filtered[['disease', 'ncbi_taxon_id']],\n",
    "    on=['disease', 'ncbi_taxon_id'],\n",
    "    how='inner'\n",
    ")\n",
    "\n",
    "print(f\"[Step 5] Final retained rows: {df_genus_retained.shape[0]}\")\n",
    "\n",
    "# ───────────────────────────────────────────────────────────────\n",
    "# Step 6: Compare number of unique taxa per disease: before vs. after\n",
    "# ───────────────────────────────────────────────────────────────\n",
    "before_counts = (\n",
    "    df_genus_cleaned.groupby(\"disease\")[\"ncbi_taxon_id\"]\n",
    "    .nunique()\n",
    "    .rename(\"taxa_before_filtering\")\n",
    ")\n",
    "\n",
    "after_counts = (\n",
    "    df_genus_retained.groupby(\"disease\")[\"ncbi_taxon_id\"]\n",
    "    .nunique()\n",
    "    .rename(\"taxa_after_filtering\")\n",
    ")\n",
    "\n",
    "comparison_df = pd.concat([before_counts, after_counts], axis=1).fillna(0).astype(int)\n",
    "\n",
    "print(\"\\n[Step 6] Number of unique taxa per disease: BEFORE vs AFTER filtering\")\n",
    "print(comparison_df.sort_values(\"taxa_before_filtering\", ascending=False))\n"
   ]
  },
  {
   "cell_type": "code",
   "execution_count": 6,
   "id": "4fe59416",
   "metadata": {},
   "outputs": [
    {
     "name": "stdout",
     "output_type": "stream",
     "text": [
      "══════════════════════════════════════════════════════════════\n",
      "MICROBIOME TAXON FILTERING — DISEASE-SPECIFIC LOGIC\n",
      "──────────────────────────────────────────────────────────────\n",
      "Filtering Criteria:\n",
      " - Prevalence ≥ 10%\n",
      " - Max Relative Abundance > 1%\n",
      " - Filtering is done within each disease group independently\n",
      "══════════════════════════════════════════════════════════════\n",
      "\n"
     ]
    },
    {
     "name": "stdout",
     "output_type": "stream",
     "text": [
      "[Step 1] Removed unknown taxa: 30186 rows removed\n",
      "[Step 2] Valid diseases retained (≥30 samples): 66 diseases\n",
      "[Step 2] Remaining rows after disease filtering: 5157360\n",
      "[Step 3] Number of (disease, taxon) pairs before filtering: 134507\n",
      "[Step 4] (Disease, taxon) pairs retained after filtering: 14205\n",
      "[Step 4] Unique taxa retained: 1546\n",
      "[Step 4] Diseases with retained taxa: 66\n",
      "[Step 5] Final retained rows: 3136087\n",
      "\n",
      "[Step 6] Number of unique taxa per disease: BEFORE vs AFTER filtering\n",
      "         taxa_before_filtering  taxa_after_filtering\n",
      "disease                                             \n",
      "D006262                   6189                  1050\n",
      "D015212                   5216                   387\n",
      "D013274                   4787                   235\n",
      "D015179                   4596                   571\n",
      "D003924                   4351                   285\n",
      "...                        ...                   ...\n",
      "D014376                    312                   104\n",
      "D006973                    296                   103\n",
      "D014607                    267                   102\n",
      "D007234                    260                   148\n",
      "D050177                    174                    77\n",
      "\n",
      "[66 rows x 2 columns]\n"
     ]
    }
   ],
   "source": [
    "# SPECIES LEVEL MONTE CARLO PERMUTATIION FOR IDENTIFICATION OF DIFFERENTAILLY ABUNDANT TAXA - SPECIES LEVEL -STEP 1\n",
    "# ───────────────────────────────────────────────────────────────\n",
    "# FILTERING CRITERIA\n",
    "# ───────────────────────────────────────────────────────────────\n",
    "prevalence_threshold = 10  # in percentage\n",
    "abundance_threshold = 1    # in percentage\n",
    "\n",
    "print(\"══════════════════════════════════════════════════════════════\")\n",
    "print(\"MICROBIOME TAXON FILTERING — DISEASE-SPECIFIC LOGIC\")\n",
    "print(\"──────────────────────────────────────────────────────────────\")\n",
    "print(f\"Filtering Criteria:\")\n",
    "print(f\" - Prevalence ≥ {prevalence_threshold}%\")\n",
    "print(f\" - Max Relative Abundance > {abundance_threshold}%\")\n",
    "print(\" - Filtering is done within each disease group independently\")\n",
    "print(\"══════════════════════════════════════════════════════════════\\n\")\n",
    "\n",
    "# ───────────────────────────────────────────────────────────────\n",
    "# Step 1: Remove unknown taxa\n",
    "# ───────────────────────────────────────────────────────────────\n",
    "df_species_cleaned = df_species[df_species['ncbi_taxon_id'] != -1].copy()\n",
    "print(f\"[Step 1] Removed unknown taxa: {df_species.shape[0] - df_species_cleaned.shape[0]} rows removed\")\n",
    "\n",
    "# ───────────────────────────────────────────────────────────────\n",
    "# Step 2: Remove diseases with <30 samples\n",
    "# ───────────────────────────────────────────────────────────────\n",
    "disease_sample_counts = (\n",
    "    df_species_cleaned[['loaded_uid', 'disease']]\n",
    "    .drop_duplicates()\n",
    "    .groupby('disease')\n",
    "    .size()\n",
    ")\n",
    "\n",
    "valid_diseases = disease_sample_counts[disease_sample_counts >= 30].index\n",
    "df_species_cleaned = df_species_cleaned[df_species_cleaned['disease'].isin(valid_diseases)].copy()\n",
    "\n",
    "print(f\"[Step 2] Valid diseases retained (≥30 samples): {len(valid_diseases)} diseases\")\n",
    "print(f\"[Step 2] Remaining rows after disease filtering: {df_species_cleaned.shape[0]}\")\n",
    "\n",
    "# ───────────────────────────────────────────────────────────────\n",
    "# Step 3: Group by disease and taxon, calculate prevalence and max abundance\n",
    "# ───────────────────────────────────────────────────────────────\n",
    "grouped = (\n",
    "    df_species_cleaned\n",
    "    .groupby(['disease', 'ncbi_taxon_id'])\n",
    "    .agg(\n",
    "        prevalence=('relative_abundance', lambda x: (x > 0).sum() / x.shape[0] * 100),\n",
    "        max_abundance=('relative_abundance', 'max')\n",
    "    )\n",
    "    .reset_index()\n",
    ")\n",
    "\n",
    "print(f\"[Step 3] Number of (disease, taxon) pairs before filtering: {grouped.shape[0]}\")\n",
    "\n",
    "# ───────────────────────────────────────────────────────────────\n",
    "# Step 4: Apply primary filter (prevalence ≥ 10% and max_abundance > 1)\n",
    "# ───────────────────────────────────────────────────────────────\n",
    "primary_mask = (grouped[\"prevalence\"] >= prevalence_threshold) & (grouped[\"max_abundance\"] > abundance_threshold)\n",
    "grouped_filtered = grouped[primary_mask]\n",
    "\n",
    "print(f\"[Step 4] (Disease, taxon) pairs retained after filtering: {grouped_filtered.shape[0]}\")\n",
    "print(f\"[Step 4] Unique taxa retained: {grouped_filtered['ncbi_taxon_id'].nunique()}\")\n",
    "print(f\"[Step 4] Diseases with retained taxa: {grouped_filtered['disease'].nunique()}\")\n",
    "\n",
    "# ───────────────────────────────────────────────────────────────\n",
    "# Step 5: Filter the full dataset to retain only the valid (disease, taxon) pairs\n",
    "# ───────────────────────────────────────────────────────────────\n",
    "df_species_retained = df_species_cleaned.merge(\n",
    "    grouped_filtered[['disease', 'ncbi_taxon_id']],\n",
    "    on=['disease', 'ncbi_taxon_id'],\n",
    "    how='inner'\n",
    ")\n",
    "\n",
    "print(f\"[Step 5] Final retained rows: {df_species_retained.shape[0]}\")\n",
    "\n",
    "# ───────────────────────────────────────────────────────────────\n",
    "# Step 6: Compare number of unique taxa per disease: before vs. after\n",
    "# ───────────────────────────────────────────────────────────────\n",
    "before_counts = (\n",
    "    df_species_cleaned.groupby(\"disease\")[\"ncbi_taxon_id\"]\n",
    "    .nunique()\n",
    "    .rename(\"taxa_before_filtering\")\n",
    ")\n",
    "\n",
    "after_counts = (\n",
    "    df_species_retained.groupby(\"disease\")[\"ncbi_taxon_id\"]\n",
    "    .nunique()\n",
    "    .rename(\"taxa_after_filtering\")\n",
    ")\n",
    "\n",
    "comparison_df = pd.concat([before_counts, after_counts], axis=1).fillna(0).astype(int)\n",
    "\n",
    "print(\"\\n[Step 6] Number of unique taxa per disease: BEFORE vs AFTER filtering\")\n",
    "print(comparison_df.sort_values(\"taxa_before_filtering\", ascending=False))\n"
   ]
  },
  {
   "cell_type": "code",
   "execution_count": 7,
   "id": "6209bb98",
   "metadata": {},
   "outputs": [
    {
     "data": {
      "application/vnd.jupyter.widget-view+json": {
       "model_id": "09a78e1abba54f8e9755f5ef75a237cb",
       "version_major": 2,
       "version_minor": 0
      },
      "text/plain": [
       "Diseases:   0%|          | 0/65 [00:00<?, ?it/s]"
      ]
     },
     "metadata": {},
     "output_type": "display_data"
    },
    {
     "data": {
      "application/vnd.jupyter.widget-view+json": {
       "model_id": "bb5634fcf7ef4fddaa92227bd797dcc4",
       "version_major": 2,
       "version_minor": 0
      },
      "text/plain": [
       "Taxa in D003924:   0%|          | 0/110 [00:00<?, ?it/s]"
      ]
     },
     "metadata": {},
     "output_type": "display_data"
    },
    {
     "data": {
      "application/vnd.jupyter.widget-view+json": {
       "model_id": "4b818e3ff7704d6db4420b00e969e11d",
       "version_major": 2,
       "version_minor": 0
      },
      "text/plain": [
       "Taxa in D003093:   0%|          | 0/151 [00:00<?, ?it/s]"
      ]
     },
     "metadata": {},
     "output_type": "display_data"
    },
    {
     "data": {
      "application/vnd.jupyter.widget-view+json": {
       "model_id": "6124d3f906b14948ab928a602d186208",
       "version_major": 2,
       "version_minor": 0
      },
      "text/plain": [
       "Taxa in D003967:   0%|          | 0/129 [00:00<?, ?it/s]"
      ]
     },
     "metadata": {},
     "output_type": "display_data"
    },
    {
     "data": {
      "application/vnd.jupyter.widget-view+json": {
       "model_id": "6cec4b0ef7ff40a6aff8ad6f31ccb3f6",
       "version_major": 2,
       "version_minor": 0
      },
      "text/plain": [
       "Taxa in D003424:   0%|          | 0/126 [00:00<?, ?it/s]"
      ]
     },
     "metadata": {},
     "output_type": "display_data"
    },
    {
     "data": {
      "application/vnd.jupyter.widget-view+json": {
       "model_id": "add31d99d5a0436f8b98aa66c781d652",
       "version_major": 2,
       "version_minor": 0
      },
      "text/plain": [
       "Taxa in D006973:   0%|          | 0/46 [00:00<?, ?it/s]"
      ]
     },
     "metadata": {},
     "output_type": "display_data"
    },
    {
     "data": {
      "application/vnd.jupyter.widget-view+json": {
       "model_id": "3a2c35553c204f0090e80f3862f1da00",
       "version_major": 2,
       "version_minor": 0
      },
      "text/plain": [
       "Taxa in D007234:   0%|          | 0/58 [00:00<?, ?it/s]"
      ]
     },
     "metadata": {},
     "output_type": "display_data"
    },
    {
     "data": {
      "application/vnd.jupyter.widget-view+json": {
       "model_id": "896901f68e3b406eb1b39dd539767ece",
       "version_major": 2,
       "version_minor": 0
      },
      "text/plain": [
       "Taxa in D015212:   0%|          | 0/131 [00:00<?, ?it/s]"
      ]
     },
     "metadata": {},
     "output_type": "display_data"
    },
    {
     "data": {
      "application/vnd.jupyter.widget-view+json": {
       "model_id": "7e42f43fce274147a7fe1aec130486ee",
       "version_major": 2,
       "version_minor": 0
      },
      "text/plain": [
       "Taxa in D015497:   0%|          | 0/75 [00:00<?, ?it/s]"
      ]
     },
     "metadata": {},
     "output_type": "display_data"
    },
    {
     "data": {
      "application/vnd.jupyter.widget-view+json": {
       "model_id": "086b734bb9cf44298a2b042975e7060e",
       "version_major": 2,
       "version_minor": 0
      },
      "text/plain": [
       "Taxa in D043183:   0%|          | 0/146 [00:00<?, ?it/s]"
      ]
     },
     "metadata": {},
     "output_type": "display_data"
    },
    {
     "data": {
      "application/vnd.jupyter.widget-view+json": {
       "model_id": "ea2ba0b9c5f743f5b5a75c5caadf0482",
       "version_major": 2,
       "version_minor": 0
      },
      "text/plain": [
       "Taxa in D007230:   0%|          | 0/62 [00:00<?, ?it/s]"
      ]
     },
     "metadata": {},
     "output_type": "display_data"
    },
    {
     "data": {
      "application/vnd.jupyter.widget-view+json": {
       "model_id": "a48102351bfa45d6b4fb79fbe5a39572",
       "version_major": 2,
       "version_minor": 0
      },
      "text/plain": [
       "Taxa in D065626:   0%|          | 0/61 [00:00<?, ?it/s]"
      ]
     },
     "metadata": {},
     "output_type": "display_data"
    },
    {
     "data": {
      "application/vnd.jupyter.widget-view+json": {
       "model_id": "b832d52575a34615b6b7bcc01a6efd78",
       "version_major": 2,
       "version_minor": 0
      },
      "text/plain": [
       "Taxa in D001321:   0%|          | 0/78 [00:00<?, ?it/s]"
      ]
     },
     "metadata": {},
     "output_type": "display_data"
    },
    {
     "data": {
      "application/vnd.jupyter.widget-view+json": {
       "model_id": "ac77f5de09c34c9ba0fa5747e528ca05",
       "version_major": 2,
       "version_minor": 0
      },
      "text/plain": [
       "Taxa in D012778:   0%|          | 0/69 [00:00<?, ?it/s]"
      ]
     },
     "metadata": {},
     "output_type": "display_data"
    },
    {
     "data": {
      "application/vnd.jupyter.widget-view+json": {
       "model_id": "11185bfad3d942529483e7e1782da046",
       "version_major": 2,
       "version_minor": 0
      },
      "text/plain": [
       "Taxa in D003922:   0%|          | 0/37 [00:00<?, ?it/s]"
      ]
     },
     "metadata": {},
     "output_type": "display_data"
    },
    {
     "data": {
      "application/vnd.jupyter.widget-view+json": {
       "model_id": "39bac8b6cb0c449ab8353221d2b4f805",
       "version_major": 2,
       "version_minor": 0
      },
      "text/plain": [
       "Taxa in D003015:   0%|          | 0/163 [00:00<?, ?it/s]"
      ]
     },
     "metadata": {},
     "output_type": "display_data"
    },
    {
     "data": {
      "application/vnd.jupyter.widget-view+json": {
       "model_id": "0c67b71152174cef915070599511cd95",
       "version_major": 2,
       "version_minor": 0
      },
      "text/plain": [
       "Taxa in D006678:   0%|          | 0/51 [00:00<?, ?it/s]"
      ]
     },
     "metadata": {},
     "output_type": "display_data"
    },
    {
     "data": {
      "application/vnd.jupyter.widget-view+json": {
       "model_id": "fda1f8a885154131a923ea31698ffef9",
       "version_major": 2,
       "version_minor": 0
      },
      "text/plain": [
       "Taxa in D014607:   0%|          | 0/42 [00:00<?, ?it/s]"
      ]
     },
     "metadata": {},
     "output_type": "display_data"
    },
    {
     "data": {
      "application/vnd.jupyter.widget-view+json": {
       "model_id": "8d161d75131f48579ebf689acaa323a0",
       "version_major": 2,
       "version_minor": 0
      },
      "text/plain": [
       "Taxa in D013274:   0%|          | 0/121 [00:00<?, ?it/s]"
      ]
     },
     "metadata": {},
     "output_type": "display_data"
    },
    {
     "data": {
      "application/vnd.jupyter.widget-view+json": {
       "model_id": "8222c0e5d136449b9eef742d982677cc",
       "version_major": 2,
       "version_minor": 0
      },
      "text/plain": [
       "Taxa in D011565:   0%|          | 0/31 [00:00<?, ?it/s]"
      ]
     },
     "metadata": {},
     "output_type": "display_data"
    },
    {
     "data": {
      "application/vnd.jupyter.widget-view+json": {
       "model_id": "7041375192ed40f986f2ee47f1443674",
       "version_major": 2,
       "version_minor": 0
      },
      "text/plain": [
       "Taxa in D050177:   0%|          | 0/35 [00:00<?, ?it/s]"
      ]
     },
     "metadata": {},
     "output_type": "display_data"
    },
    {
     "data": {
      "application/vnd.jupyter.widget-view+json": {
       "model_id": "3634287842464d9389559be943fa8ae4",
       "version_major": 2,
       "version_minor": 0
      },
      "text/plain": [
       "Taxa in D009765:   0%|          | 0/76 [00:00<?, ?it/s]"
      ]
     },
     "metadata": {},
     "output_type": "display_data"
    },
    {
     "data": {
      "application/vnd.jupyter.widget-view+json": {
       "model_id": "e9b06fe26b714f3c9f464d4f7936f105",
       "version_major": 2,
       "version_minor": 0
      },
      "text/plain": [
       "Taxa in D006515:   0%|          | 0/39 [00:00<?, ?it/s]"
      ]
     },
     "metadata": {},
     "output_type": "display_data"
    },
    {
     "data": {
      "application/vnd.jupyter.widget-view+json": {
       "model_id": "d1a2185112074ccaa76b31868a80ed66",
       "version_major": 2,
       "version_minor": 0
      },
      "text/plain": [
       "Taxa in D003920:   0%|          | 0/107 [00:00<?, ?it/s]"
      ]
     },
     "metadata": {},
     "output_type": "display_data"
    },
    {
     "data": {
      "application/vnd.jupyter.widget-view+json": {
       "model_id": "ce3daca449ac48cfaf234e18261bbc37",
       "version_major": 2,
       "version_minor": 0
      },
      "text/plain": [
       "Taxa in D024821:   0%|          | 0/40 [00:00<?, ?it/s]"
      ]
     },
     "metadata": {},
     "output_type": "display_data"
    },
    {
     "data": {
      "application/vnd.jupyter.widget-view+json": {
       "model_id": "749da4408a724381b08bf0fae9cf72e9",
       "version_major": 2,
       "version_minor": 0
      },
      "text/plain": [
       "Taxa in D016360:   0%|          | 0/56 [00:00<?, ?it/s]"
      ]
     },
     "metadata": {},
     "output_type": "display_data"
    },
    {
     "data": {
      "application/vnd.jupyter.widget-view+json": {
       "model_id": "e9896f0a5fe248019e843e81e676e83d",
       "version_major": 2,
       "version_minor": 0
      },
      "text/plain": [
       "Taxa in D000855:   0%|          | 0/37 [00:00<?, ?it/s]"
      ]
     },
     "metadata": {},
     "output_type": "display_data"
    },
    {
     "data": {
      "application/vnd.jupyter.widget-view+json": {
       "model_id": "0927424835424af096de34d8bcccb4d6",
       "version_major": 2,
       "version_minor": 0
      },
      "text/plain": [
       "Taxa in D007676:   0%|          | 0/50 [00:00<?, ?it/s]"
      ]
     },
     "metadata": {},
     "output_type": "display_data"
    },
    {
     "data": {
      "application/vnd.jupyter.widget-view+json": {
       "model_id": "d7a4e75a465243fea2cace5f9ac2b36d",
       "version_major": 2,
       "version_minor": 0
      },
      "text/plain": [
       "Taxa in D008545:   0%|          | 0/69 [00:00<?, ?it/s]"
      ]
     },
     "metadata": {},
     "output_type": "display_data"
    },
    {
     "data": {
      "application/vnd.jupyter.widget-view+json": {
       "model_id": "0f87d8ac15cc4ae78520ee51fdb9eef2",
       "version_major": 2,
       "version_minor": 0
      },
      "text/plain": [
       "Taxa in D003108:   0%|          | 0/88 [00:00<?, ?it/s]"
      ]
     },
     "metadata": {},
     "output_type": "display_data"
    },
    {
     "data": {
      "application/vnd.jupyter.widget-view+json": {
       "model_id": "6f82db25d14d468380affdf44c75fd6f",
       "version_major": 2,
       "version_minor": 0
      },
      "text/plain": [
       "Taxa in D003248:   0%|          | 0/139 [00:00<?, ?it/s]"
      ]
     },
     "metadata": {},
     "output_type": "display_data"
    },
    {
     "data": {
      "application/vnd.jupyter.widget-view+json": {
       "model_id": "7726fc8a4e50473f893e27a1efc845fe",
       "version_major": 2,
       "version_minor": 0
      },
      "text/plain": [
       "Taxa in D003550:   0%|          | 0/64 [00:00<?, ?it/s]"
      ]
     },
     "metadata": {},
     "output_type": "display_data"
    },
    {
     "data": {
      "application/vnd.jupyter.widget-view+json": {
       "model_id": "13940d546cf64b7f89d43941af47e352",
       "version_major": 2,
       "version_minor": 0
      },
      "text/plain": [
       "Taxa in D015179:   0%|          | 0/210 [00:00<?, ?it/s]"
      ]
     },
     "metadata": {},
     "output_type": "display_data"
    },
    {
     "data": {
      "application/vnd.jupyter.widget-view+json": {
       "model_id": "c417d33a57cd43eaac00c117752337ce",
       "version_major": 2,
       "version_minor": 0
      },
      "text/plain": [
       "Taxa in D000236:   0%|          | 0/83 [00:00<?, ?it/s]"
      ]
     },
     "metadata": {},
     "output_type": "display_data"
    },
    {
     "data": {
      "application/vnd.jupyter.widget-view+json": {
       "model_id": "9c2c2e204f8e40058b1bcf5c33c4a825",
       "version_major": 2,
       "version_minor": 0
      },
      "text/plain": [
       "Taxa in D019337:   0%|          | 0/94 [00:00<?, ?it/s]"
      ]
     },
     "metadata": {},
     "output_type": "display_data"
    },
    {
     "data": {
      "application/vnd.jupyter.widget-view+json": {
       "model_id": "f94c69a91a1d46a8b3fc26a5854f0e59",
       "version_major": 2,
       "version_minor": 0
      },
      "text/plain": [
       "Taxa in D016918:   0%|          | 0/36 [00:00<?, ?it/s]"
      ]
     },
     "metadata": {},
     "output_type": "display_data"
    },
    {
     "data": {
      "application/vnd.jupyter.widget-view+json": {
       "model_id": "a785493d5ac04c2099ea0a3ef59cb270",
       "version_major": 2,
       "version_minor": 0
      },
      "text/plain": [
       "Taxa in D000067011:   0%|          | 0/48 [00:00<?, ?it/s]"
      ]
     },
     "metadata": {},
     "output_type": "display_data"
    },
    {
     "data": {
      "application/vnd.jupyter.widget-view+json": {
       "model_id": "a9f8a26e41e3475fb467c21b8cbc7499",
       "version_major": 2,
       "version_minor": 0
      },
      "text/plain": [
       "Taxa in D001249:   0%|          | 0/48 [00:00<?, ?it/s]"
      ]
     },
     "metadata": {},
     "output_type": "display_data"
    },
    {
     "data": {
      "application/vnd.jupyter.widget-view+json": {
       "model_id": "8e6d8a6f42cb465ebe3e444294a0dd5d",
       "version_major": 2,
       "version_minor": 0
      },
      "text/plain": [
       "Taxa in D054198:   0%|          | 0/95 [00:00<?, ?it/s]"
      ]
     },
     "metadata": {},
     "output_type": "display_data"
    },
    {
     "data": {
      "application/vnd.jupyter.widget-view+json": {
       "model_id": "d83db80ebef1421abe3bc82bbe0cdfaa",
       "version_major": 2,
       "version_minor": 0
      },
      "text/plain": [
       "Taxa in D001714:   0%|          | 0/118 [00:00<?, ?it/s]"
      ]
     },
     "metadata": {},
     "output_type": "display_data"
    },
    {
     "data": {
      "application/vnd.jupyter.widget-view+json": {
       "model_id": "13195915f4ef49cba4d0af91518e546c",
       "version_major": 2,
       "version_minor": 0
      },
      "text/plain": [
       "Taxa in D001172:   0%|          | 0/43 [00:00<?, ?it/s]"
      ]
     },
     "metadata": {},
     "output_type": "display_data"
    },
    {
     "data": {
      "application/vnd.jupyter.widget-view+json": {
       "model_id": "5ee8eec580644b5c8e547c9e40f59c7e",
       "version_major": 2,
       "version_minor": 0
      },
      "text/plain": [
       "Taxa in D001943:   0%|          | 0/49 [00:00<?, ?it/s]"
      ]
     },
     "metadata": {},
     "output_type": "display_data"
    },
    {
     "data": {
      "application/vnd.jupyter.widget-view+json": {
       "model_id": "7e28d8659d66400583aa3b3cc289b2db",
       "version_major": 2,
       "version_minor": 0
      },
      "text/plain": [
       "Taxa in D013167:   0%|          | 0/39 [00:00<?, ?it/s]"
      ]
     },
     "metadata": {},
     "output_type": "display_data"
    },
    {
     "data": {
      "application/vnd.jupyter.widget-view+json": {
       "model_id": "c7fe4a20f2074ac2b2e4a281ff9ed38a",
       "version_major": 2,
       "version_minor": 0
      },
      "text/plain": [
       "Taxa in D008103:   0%|          | 0/69 [00:00<?, ?it/s]"
      ]
     },
     "metadata": {},
     "output_type": "display_data"
    },
    {
     "data": {
      "application/vnd.jupyter.widget-view+json": {
       "model_id": "9c7b47d95a784f40bfbb8900eb727533",
       "version_major": 2,
       "version_minor": 0
      },
      "text/plain": [
       "Taxa in D001327:   0%|          | 0/125 [00:00<?, ?it/s]"
      ]
     },
     "metadata": {},
     "output_type": "display_data"
    },
    {
     "data": {
      "application/vnd.jupyter.widget-view+json": {
       "model_id": "a6a7530496144b1fb43b968048b44bb6",
       "version_major": 2,
       "version_minor": 0
      },
      "text/plain": [
       "Taxa in D008107:   0%|          | 0/73 [00:00<?, ?it/s]"
      ]
     },
     "metadata": {},
     "output_type": "display_data"
    },
    {
     "data": {
      "application/vnd.jupyter.widget-view+json": {
       "model_id": "49480fc56e8d4abfa5680f8dc67cef19",
       "version_major": 2,
       "version_minor": 0
      },
      "text/plain": [
       "Taxa in D013959:   0%|          | 0/133 [00:00<?, ?it/s]"
      ]
     },
     "metadata": {},
     "output_type": "display_data"
    },
    {
     "data": {
      "application/vnd.jupyter.widget-view+json": {
       "model_id": "ff053b21117c42a99584dfa0db6c0679",
       "version_major": 2,
       "version_minor": 0
      },
      "text/plain": [
       "Taxa in D007410:   0%|          | 0/115 [00:00<?, ?it/s]"
      ]
     },
     "metadata": {},
     "output_type": "display_data"
    },
    {
     "data": {
      "application/vnd.jupyter.widget-view+json": {
       "model_id": "3290781781f94d24a4a9b6eac66a1691",
       "version_major": 2,
       "version_minor": 0
      },
      "text/plain": [
       "Taxa in D008881:   0%|          | 0/127 [00:00<?, ?it/s]"
      ]
     },
     "metadata": {},
     "output_type": "display_data"
    },
    {
     "data": {
      "application/vnd.jupyter.widget-view+json": {
       "model_id": "b997a8599c504b0cac0148ada02c0d30",
       "version_major": 2,
       "version_minor": 0
      },
      "text/plain": [
       "Taxa in D007674:   0%|          | 0/71 [00:00<?, ?it/s]"
      ]
     },
     "metadata": {},
     "output_type": "display_data"
    },
    {
     "data": {
      "application/vnd.jupyter.widget-view+json": {
       "model_id": "24c457ef469a4bd5af65c2d833d43269",
       "version_major": 2,
       "version_minor": 0
      },
      "text/plain": [
       "Taxa in D008171:   0%|          | 0/122 [00:00<?, ?it/s]"
      ]
     },
     "metadata": {},
     "output_type": "display_data"
    },
    {
     "data": {
      "application/vnd.jupyter.widget-view+json": {
       "model_id": "ec3b7b5328f343c690cc284ce75e3c04",
       "version_major": 2,
       "version_minor": 0
      },
      "text/plain": [
       "Taxa in D002446:   0%|          | 0/74 [00:00<?, ?it/s]"
      ]
     },
     "metadata": {},
     "output_type": "display_data"
    },
    {
     "data": {
      "application/vnd.jupyter.widget-view+json": {
       "model_id": "4f1ae272a75f4087a79ad8ff5e00a6ec",
       "version_major": 2,
       "version_minor": 0
      },
      "text/plain": [
       "Taxa in D003863:   0%|          | 0/106 [00:00<?, ?it/s]"
      ]
     },
     "metadata": {},
     "output_type": "display_data"
    },
    {
     "data": {
      "application/vnd.jupyter.widget-view+json": {
       "model_id": "dcefb062ce8a4f90a50cf20d5c205d40",
       "version_major": 2,
       "version_minor": 0
      },
      "text/plain": [
       "Taxa in D012559:   0%|          | 0/105 [00:00<?, ?it/s]"
      ]
     },
     "metadata": {},
     "output_type": "display_data"
    },
    {
     "data": {
      "application/vnd.jupyter.widget-view+json": {
       "model_id": "d7501f58d4514a3ba628cb9cf7560c2c",
       "version_major": 2,
       "version_minor": 0
      },
      "text/plain": [
       "Taxa in D000067877:   0%|          | 0/94 [00:00<?, ?it/s]"
      ]
     },
     "metadata": {},
     "output_type": "display_data"
    },
    {
     "data": {
      "application/vnd.jupyter.widget-view+json": {
       "model_id": "0784821b14904b6b83e9119c2559d246",
       "version_major": 2,
       "version_minor": 0
      },
      "text/plain": [
       "Taxa in D004827:   0%|          | 0/63 [00:00<?, ?it/s]"
      ]
     },
     "metadata": {},
     "output_type": "display_data"
    },
    {
     "data": {
      "application/vnd.jupyter.widget-view+json": {
       "model_id": "e78ffdc9eba140109be7e6371995f5da",
       "version_major": 2,
       "version_minor": 0
      },
      "text/plain": [
       "Taxa in D001289:   0%|          | 0/92 [00:00<?, ?it/s]"
      ]
     },
     "metadata": {},
     "output_type": "display_data"
    },
    {
     "data": {
      "application/vnd.jupyter.widget-view+json": {
       "model_id": "a62e45e7a1ec421db04a59fdcbf55b17",
       "version_major": 2,
       "version_minor": 0
      },
      "text/plain": [
       "Taxa in D002318:   0%|          | 0/87 [00:00<?, ?it/s]"
      ]
     },
     "metadata": {},
     "output_type": "display_data"
    },
    {
     "data": {
      "application/vnd.jupyter.widget-view+json": {
       "model_id": "9a4ae263d3be4e8f9246534a54023be4",
       "version_major": 2,
       "version_minor": 0
      },
      "text/plain": [
       "Taxa in D014376:   0%|          | 0/42 [00:00<?, ?it/s]"
      ]
     },
     "metadata": {},
     "output_type": "display_data"
    },
    {
     "data": {
      "application/vnd.jupyter.widget-view+json": {
       "model_id": "9d3d0f4790df49d49d7b8b4cf21b8c64",
       "version_major": 2,
       "version_minor": 0
      },
      "text/plain": [
       "Taxa in D012400:   0%|          | 0/53 [00:00<?, ?it/s]"
      ]
     },
     "metadata": {},
     "output_type": "display_data"
    },
    {
     "data": {
      "application/vnd.jupyter.widget-view+json": {
       "model_id": "3caf7da62d524d50a9ff16b68d784b19",
       "version_major": 2,
       "version_minor": 0
      },
      "text/plain": [
       "Taxa in D005764:   0%|          | 0/68 [00:00<?, ?it/s]"
      ]
     },
     "metadata": {},
     "output_type": "display_data"
    },
    {
     "data": {
      "application/vnd.jupyter.widget-view+json": {
       "model_id": "491dd5be65c947c4ba6abc102faf41cc",
       "version_major": 2,
       "version_minor": 0
      },
      "text/plain": [
       "Taxa in D037841:   0%|          | 0/67 [00:00<?, ?it/s]"
      ]
     },
     "metadata": {},
     "output_type": "display_data"
    },
    {
     "data": {
      "application/vnd.jupyter.widget-view+json": {
       "model_id": "26edcc1af85345ecaa0466f868ec8cc0",
       "version_major": 2,
       "version_minor": 0
      },
      "text/plain": [
       "Taxa in D016640:   0%|          | 0/53 [00:00<?, ?it/s]"
      ]
     },
     "metadata": {},
     "output_type": "display_data"
    },
    {
     "data": {
      "application/vnd.jupyter.widget-view+json": {
       "model_id": "44dc06cb81164ecca33c20d7d4c551da",
       "version_major": 2,
       "version_minor": 0
      },
      "text/plain": [
       "Taxa in D006111:   0%|          | 0/35 [00:00<?, ?it/s]"
      ]
     },
     "metadata": {},
     "output_type": "display_data"
    },
    {
     "data": {
      "application/vnd.jupyter.widget-view+json": {
       "model_id": "6f55686df93b4ac2b8e21ab359266478",
       "version_major": 2,
       "version_minor": 0
      },
      "text/plain": [
       "Taxa in D050031:   0%|          | 0/38 [00:00<?, ?it/s]"
      ]
     },
     "metadata": {},
     "output_type": "display_data"
    },
    {
     "data": {
      "application/vnd.jupyter.widget-view+json": {
       "model_id": "901aa32a85544cc9be708d3a53461bca",
       "version_major": 2,
       "version_minor": 0
      },
      "text/plain": [
       "Taxa in D013964:   0%|          | 0/45 [00:00<?, ?it/s]"
      ]
     },
     "metadata": {},
     "output_type": "display_data"
    },
    {
     "data": {
      "image/png": "[encoded data removed]",
      "text/plain": [
       "<Figure size 2200x1000 with 1 Axes>"
      ]
     },
     "metadata": {},
     "output_type": "display_data"
    },
    {
     "name": "stdout",
     "output_type": "stream",
     "text": [
      "✅ PERMUTATION TESTING COMPLETE\n",
      "• Total diseases tested: 65\n",
      "• Total (disease, taxon) pairs tested: 5207\n",
      "• Total significant pairs (FDR < 0.05): 2319\n",
      "• Shape of df_genus_significant: (412306, 5)\n",
      "• Unique significant taxa: 384\n",
      "• Diseases with significant taxa: 65\n",
      "📁 Saved significant genus-level taxa to 'significant_genus_taxa.txt'\n"
     ]
    },
    {
     "data": {
      "application/vnd.microsoft.datawrangler.viewer.v0+json": {
       "columns": [
        {
         "name": "disease",
         "rawType": "object",
         "type": "string"
        },
        {
         "name": "n_taxa_tested",
         "rawType": "int64",
         "type": "integer"
        },
        {
         "name": "n_significant",
         "rawType": "int64",
         "type": "integer"
        }
       ],
       "ref": "98c77ce4-4fd5-47c8-aac7-9778ec3c4088",
       "rows": [
        [
         "D015179",
         "210",
         "93"
        ],
        [
         "D003015",
         "163",
         "98"
        ],
        [
         "D003093",
         "151",
         "85"
        ],
        [
         "D043183",
         "146",
         "70"
        ],
        [
         "D003248",
         "139",
         "65"
        ],
        [
         "D013959",
         "133",
         "68"
        ],
        [
         "D015212",
         "131",
         "58"
        ],
        [
         "D003967",
         "129",
         "48"
        ],
        [
         "D008881",
         "127",
         "58"
        ],
        [
         "D003424",
         "126",
         "60"
        ],
        [
         "D001327",
         "125",
         "64"
        ],
        [
         "D008171",
         "122",
         "59"
        ],
        [
         "D013274",
         "121",
         "115"
        ],
        [
         "D001714",
         "118",
         "45"
        ],
        [
         "D007410",
         "115",
         "46"
        ],
        [
         "D003924",
         "110",
         "43"
        ],
        [
         "D003920",
         "107",
         "43"
        ],
        [
         "D003863",
         "106",
         "40"
        ],
        [
         "D012559",
         "105",
         "38"
        ],
        [
         "D054198",
         "95",
         "64"
        ],
        [
         "D019337",
         "94",
         "54"
        ],
        [
         "D000067877",
         "94",
         "23"
        ],
        [
         "D001289",
         "92",
         "32"
        ],
        [
         "D003108",
         "88",
         "45"
        ],
        [
         "D002318",
         "87",
         "27"
        ],
        [
         "D000236",
         "83",
         "34"
        ],
        [
         "D001321",
         "78",
         "26"
        ],
        [
         "D009765",
         "76",
         "48"
        ],
        [
         "D015497",
         "75",
         "27"
        ],
        [
         "D002446",
         "74",
         "20"
        ],
        [
         "D008107",
         "73",
         "20"
        ],
        [
         "D007674",
         "71",
         "11"
        ],
        [
         "D012778",
         "69",
         "28"
        ],
        [
         "D008103",
         "69",
         "30"
        ],
        [
         "D008545",
         "69",
         "24"
        ],
        [
         "D005764",
         "68",
         "35"
        ],
        [
         "D037841",
         "67",
         "29"
        ],
        [
         "D003550",
         "64",
         "27"
        ],
        [
         "D004827",
         "63",
         "11"
        ],
        [
         "D007230",
         "62",
         "36"
        ],
        [
         "D065626",
         "61",
         "13"
        ],
        [
         "D007234",
         "58",
         "41"
        ],
        [
         "D016360",
         "56",
         "19"
        ],
        [
         "D016640",
         "53",
         "13"
        ],
        [
         "D012400",
         "53",
         "17"
        ],
        [
         "D006678",
         "51",
         "23"
        ],
        [
         "D007676",
         "50",
         "19"
        ],
        [
         "D001943",
         "49",
         "21"
        ],
        [
         "D000067011",
         "48",
         "20"
        ],
        [
         "D001249",
         "48",
         "22"
        ]
       ],
       "shape": {
        "columns": 2,
        "rows": 65
       }
      },
      "text/html": [
       "<div>\n",
       "<style scoped>\n",
       "    .dataframe tbody tr th:only-of-type {\n",
       "        vertical-align: middle;\n",
       "    }\n",
       "\n",
       "    .dataframe tbody tr th {\n",
       "        vertical-align: top;\n",
       "    }\n",
       "\n",
       "    .dataframe thead th {\n",
       "        text-align: right;\n",
       "    }\n",
       "</style>\n",
       "<table border=\"1\" class=\"dataframe\">\n",
       "  <thead>\n",
       "    <tr style=\"text-align: right;\">\n",
       "      <th></th>\n",
       "      <th>n_taxa_tested</th>\n",
       "      <th>n_significant</th>\n",
       "    </tr>\n",
       "    <tr>\n",
       "      <th>disease</th>\n",
       "      <th></th>\n",
       "      <th></th>\n",
       "    </tr>\n",
       "  </thead>\n",
       "  <tbody>\n",
       "    <tr>\n",
       "      <th>D015179</th>\n",
       "      <td>210</td>\n",
       "      <td>93</td>\n",
       "    </tr>\n",
       "    <tr>\n",
       "      <th>D003015</th>\n",
       "      <td>163</td>\n",
       "      <td>98</td>\n",
       "    </tr>\n",
       "    <tr>\n",
       "      <th>D003093</th>\n",
       "      <td>151</td>\n",
       "      <td>85</td>\n",
       "    </tr>\n",
       "    <tr>\n",
       "      <th>D043183</th>\n",
       "      <td>146</td>\n",
       "      <td>70</td>\n",
       "    </tr>\n",
       "    <tr>\n",
       "      <th>D003248</th>\n",
       "      <td>139</td>\n",
       "      <td>65</td>\n",
       "    </tr>\n",
       "    <tr>\n",
       "      <th>...</th>\n",
       "      <td>...</td>\n",
       "      <td>...</td>\n",
       "    </tr>\n",
       "    <tr>\n",
       "      <th>D003922</th>\n",
       "      <td>37</td>\n",
       "      <td>7</td>\n",
       "    </tr>\n",
       "    <tr>\n",
       "      <th>D016918</th>\n",
       "      <td>36</td>\n",
       "      <td>9</td>\n",
       "    </tr>\n",
       "    <tr>\n",
       "      <th>D006111</th>\n",
       "      <td>35</td>\n",
       "      <td>18</td>\n",
       "    </tr>\n",
       "    <tr>\n",
       "      <th>D050177</th>\n",
       "      <td>35</td>\n",
       "      <td>17</td>\n",
       "    </tr>\n",
       "    <tr>\n",
       "      <th>D011565</th>\n",
       "      <td>31</td>\n",
       "      <td>17</td>\n",
       "    </tr>\n",
       "  </tbody>\n",
       "</table>\n",
       "<p>65 rows × 2 columns</p>\n",
       "</div>"
      ],
      "text/plain": [
       "         n_taxa_tested  n_significant\n",
       "disease                              \n",
       "D015179            210             93\n",
       "D003015            163             98\n",
       "D003093            151             85\n",
       "D043183            146             70\n",
       "D003248            139             65\n",
       "...                ...            ...\n",
       "D003922             37              7\n",
       "D016918             36              9\n",
       "D006111             35             18\n",
       "D050177             35             17\n",
       "D011565             31             17\n",
       "\n",
       "[65 rows x 2 columns]"
      ]
     },
     "metadata": {},
     "output_type": "display_data"
    },
    {
     "data": {
      "application/vnd.microsoft.datawrangler.viewer.v0+json": {
       "columns": [
        {
         "name": "index",
         "rawType": "int64",
         "type": "integer"
        },
        {
         "name": "taxon",
         "rawType": "int64",
         "type": "integer"
        },
        {
         "name": "disease",
         "rawType": "object",
         "type": "string"
        },
        {
         "name": "p_value",
         "rawType": "float64",
         "type": "float"
        },
        {
         "name": "mean_healthy",
         "rawType": "float64",
         "type": "float"
        },
        {
         "name": "mean_disease",
         "rawType": "float64",
         "type": "float"
        },
        {
         "name": "diff_mean",
         "rawType": "float64",
         "type": "float"
        },
        {
         "name": "p_adj",
         "rawType": "float64",
         "type": "float"
        }
       ],
       "ref": "69de863a-175b-4474-b26b-c58d2b7b5f42",
       "rows": [
        [
         "3045",
         "241189",
         "D054198",
         "0.000999000999000999",
         "0.019461279824362607",
         "3.513772836458924",
         "3.4943115566345613",
         "0.003269514897421874"
        ],
        [
         "3025",
         "1730",
         "D054198",
         "0.000999000999000999",
         "3.2855294529376766",
         "0.5342210692719547",
         "-2.751308383665722",
         "0.003269514897421874"
        ],
        [
         "1423",
         "538",
         "D003015",
         "0.000999000999000999",
         "0.0",
         "0.021101559882142858",
         "0.021101559882142858",
         "0.003269514897421874"
        ],
        [
         "1421",
         "196081",
         "D003015",
         "0.000999000999000999",
         "0.0",
         "0.003952644501190476",
         "0.003952644501190476",
         "0.003269514897421874"
        ],
        [
         "1419",
         "46255",
         "D003015",
         "0.000999000999000999",
         "0.005318024985714286",
         "0.8028287567857144",
         "0.7975107318000001",
         "0.003269514897421874"
        ],
        [
         "1416",
         "34072",
         "D003015",
         "0.000999000999000999",
         "0.0",
         "0.0034923081702380953",
         "0.0034923081702380953",
         "0.003269514897421874"
        ],
        [
         "3035",
         "102106",
         "D054198",
         "0.000999000999000999",
         "0.8040107028526912",
         "0.2748379955212465",
         "-0.5291727073314447",
         "0.003269514897421874"
        ],
        [
         "3034",
         "100883",
         "D054198",
         "0.000999000999000999",
         "0.02011487694334278",
         "0.059083275532577896",
         "0.03896839858923512",
         "0.003269514897421874"
        ],
        [
         "3033",
         "84111",
         "D054198",
         "0.000999000999000999",
         "0.055284926515580736",
         "0.20400951526062325",
         "0.14872458874504252",
         "0.003269514897421874"
        ],
        [
         "3032",
         "52225",
         "D054198",
         "0.000999000999000999",
         "0.0517976732776204",
         "0.21041892509631727",
         "0.15862125181869685",
         "0.003269514897421874"
        ],
        [
         "3031",
         "39948",
         "D054198",
         "0.000999000999000999",
         "1.8467395893342777",
         "0.22160628943342778",
         "-1.6251332999008499",
         "0.003269514897421874"
        ],
        [
         "3030",
         "33042",
         "D054198",
         "0.000999000999000999",
         "0.6806875809065155",
         "0.14446480122379604",
         "-0.5362227796827195",
         "0.003269514897421874"
        ],
        [
         "3029",
         "29465",
         "D054198",
         "0.000999000999000999",
         "0.5017850530878186",
         "1.708947262181303",
         "1.2071622090934846",
         "0.003269514897421874"
        ],
        [
         "3028",
         "2697",
         "D054198",
         "0.000999000999000999",
         "0.028986415722379602",
         "0.33600493529461756",
         "0.30701851957223797",
         "0.003269514897421874"
        ],
        [
         "3046",
         "283168",
         "D054198",
         "0.000999000999000999",
         "0.33378658175637393",
         "0.12272492918980171",
         "-0.21106165256657222",
         "0.003269514897421874"
        ],
        [
         "3026",
         "1883",
         "D054198",
         "0.000999000999000999",
         "0.00557590116713881",
         "0.42379983381019837",
         "0.41822393264305957",
         "0.003269514897421874"
        ],
        [
         "3044",
         "239934",
         "D054198",
         "0.000999000999000999",
         "1.2248379365637392",
         "0.32578189046742206",
         "-0.8990560460963171",
         "0.003269514897421874"
        ],
        [
         "3040",
         "204475",
         "D054198",
         "0.000999000999000999",
         "0.026402994419263456",
         "0.23491459432577905",
         "0.20851159990651558",
         "0.003269514897421874"
        ],
        [
         "3038",
         "166484",
         "D054198",
         "0.000999000999000999",
         "0.0010189791529745043",
         "0.5408274942266289",
         "0.5398085150736543",
         "0.003269514897421874"
        ],
        [
         "3037",
         "162289",
         "D054198",
         "0.000999000999000999",
         "0.2182775932407932",
         "0.8831462765155806",
         "0.6648686832747874",
         "0.003269514897421874"
        ],
        [
         "3036",
         "117563",
         "D054198",
         "0.000999000999000999",
         "0.031462484824362605",
         "0.23762141375637394",
         "0.20615892893201132",
         "0.003269514897421874"
        ],
        [
         "3059",
         "1335483",
         "D054198",
         "0.000999000999000999",
         "0.0",
         "0.005580096762039659",
         "0.005580096762039659",
         "0.003269514897421874"
        ],
        [
         "3057",
         "862261",
         "D054198",
         "0.000999000999000999",
         "0.0",
         "0.07798677056600566",
         "0.07798677056600566",
         "0.003269514897421874"
        ],
        [
         "1391",
         "528",
         "D003015",
         "0.000999000999000999",
         "0.0005659978714285714",
         "0.009986885988095238",
         "0.009420888116666666",
         "0.003269514897421874"
        ],
        [
         "1390",
         "399320",
         "D003015",
         "0.000999000999000999",
         "0.0",
         "0.0321887942",
         "0.0321887942",
         "0.003269514897421874"
        ],
        [
         "1387",
         "162171",
         "D003015",
         "0.000999000999000999",
         "0.0",
         "0.831507103627381",
         "0.831507103627381",
         "0.003269514897421874"
        ],
        [
         "1386",
         "156973",
         "D003015",
         "0.000999000999000999",
         "0.0014071817476190476",
         "0.181219489472619",
         "0.17981230772499995",
         "0.003269514897421874"
        ],
        [
         "1383",
         "620",
         "D003015",
         "0.000999000999000999",
         "0.0",
         "0.01374633478809524",
         "0.01374633478809524",
         "0.003269514897421874"
        ],
        [
         "1382",
         "419014",
         "D003015",
         "0.000999000999000999",
         "0.0",
         "0.0034774946607142856",
         "0.0034774946607142856",
         "0.003269514897421874"
        ],
        [
         "3070",
         "2304692",
         "D054198",
         "0.000999000999000999",
         "0.0007254079320113315",
         "0.10235061137393768",
         "0.10162520344192635",
         "0.003269514897421874"
        ],
        [
         "1438",
         "168808",
         "D003015",
         "0.000999000999000999",
         "0.0",
         "0.003995277503571428",
         "0.003995277503571428",
         "0.003269514897421874"
        ],
        [
         "3050",
         "397864",
         "D054198",
         "0.000999000999000999",
         "0.9502089576713881",
         "0.04421428717280453",
         "-0.9059946704985836",
         "0.003269514897421874"
        ],
        [
         "3049",
         "375928",
         "D054198",
         "0.000999000999000999",
         "0.0",
         "0.04379123327478753",
         "0.04379123327478753",
         "0.003269514897421874"
        ],
        [
         "3048",
         "375288",
         "D054198",
         "0.000999000999000999",
         "2.656557094844193",
         "0.49832556087818697",
         "-2.158231533966006",
         "0.003269514897421874"
        ],
        [
         "3047",
         "292632",
         "D054198",
         "0.000999000999000999",
         "2.893706075827195",
         "0.016451928750708215",
         "-2.8772541470764867",
         "0.003269514897421874"
        ],
        [
         "1434",
         "1518147",
         "D003015",
         "0.000999000999000999",
         "3.666630357142857e-05",
         "0.11958090065476189",
         "0.11954423435119046",
         "0.003269514897421874"
        ],
        [
         "1432",
         "146813",
         "D003015",
         "0.000999000999000999",
         "0.0",
         "0.00428212543452381",
         "0.00428212543452381",
         "0.003269514897421874"
        ],
        [
         "1431",
         "469322",
         "D003015",
         "0.000999000999000999",
         "0.0",
         "0.03206234780238096",
         "0.03206234780238096",
         "0.003269514897421874"
        ],
        [
         "1427",
         "71655",
         "D003015",
         "0.000999000999000999",
         "0.0",
         "0.007300717867857143",
         "0.007300717867857143",
         "0.003269514897421874"
        ],
        [
         "1426",
         "1649",
         "D003015",
         "0.000999000999000999",
         "0.0",
         "0.3503378421559524",
         "0.3503378421559524",
         "0.003269514897421874"
        ],
        [
         "1425",
         "613",
         "D003015",
         "0.000999000999000999",
         "0.0",
         "0.0027217930833333343",
         "0.0027217930833333343",
         "0.003269514897421874"
        ],
        [
         "3055",
         "698776",
         "D054198",
         "0.000999000999000999",
         "0.011555718847025494",
         "0.12448100243909349",
         "0.112925283592068",
         "0.003269514897421874"
        ],
        [
         "1457",
         "1678",
         "D006678",
         "0.000999000999000999",
         "5.137086381034482",
         "0.5220906417931035",
         "-4.614995739241379",
         "0.003269514897421874"
        ],
        [
         "1446",
         "838",
         "D006678",
         "0.000999000999000999",
         "6.263685895465518",
         "32.90129172931035",
         "26.637605833844834",
         "0.003269514897421874"
        ],
        [
         "1440",
         "338191",
         "D003015",
         "0.000999000999000999",
         "3.641309011904762e-05",
         "0.02400669377857143",
         "0.023970280688452382",
         "0.003269514897421874"
        ],
        [
         "3069",
         "2057233",
         "D054198",
         "0.000999000999000999",
         "0.006331694645892351",
         "3.150560169730878",
         "3.1442284750849856",
         "0.003269514897421874"
        ],
        [
         "1437",
         "466152",
         "D003015",
         "0.000999000999000999",
         "0.0",
         "0.01968112963095238",
         "0.01968112963095238",
         "0.003269514897421874"
        ],
        [
         "1473",
         "216851",
         "D006678",
         "0.000999000999000999",
         "4.1847518310344824",
         "1.5159013103448276",
         "-2.668850520689655",
         "0.003269514897421874"
        ],
        [
         "1470",
         "123375",
         "D006678",
         "0.000999000999000999",
         "0.0009334201724137931",
         "0.1112078295",
         "0.1102744093275862",
         "0.003269514897421874"
        ],
        [
         "1467",
         "83770",
         "D006678",
         "0.000999000999000999",
         "0.011458525",
         "1.648900895224138",
         "1.6374423702241379",
         "0.003269514897421874"
        ]
       ],
       "shape": {
        "columns": 7,
        "rows": 5207
       }
      },
      "text/html": [
       "<div>\n",
       "<style scoped>\n",
       "    .dataframe tbody tr th:only-of-type {\n",
       "        vertical-align: middle;\n",
       "    }\n",
       "\n",
       "    .dataframe tbody tr th {\n",
       "        vertical-align: top;\n",
       "    }\n",
       "\n",
       "    .dataframe thead th {\n",
       "        text-align: right;\n",
       "    }\n",
       "</style>\n",
       "<table border=\"1\" class=\"dataframe\">\n",
       "  <thead>\n",
       "    <tr style=\"text-align: right;\">\n",
       "      <th></th>\n",
       "      <th>taxon</th>\n",
       "      <th>disease</th>\n",
       "      <th>p_value</th>\n",
       "      <th>mean_healthy</th>\n",
       "      <th>mean_disease</th>\n",
       "      <th>diff_mean</th>\n",
       "      <th>p_adj</th>\n",
       "    </tr>\n",
       "  </thead>\n",
       "  <tbody>\n",
       "    <tr>\n",
       "      <th>3045</th>\n",
       "      <td>241189</td>\n",
       "      <td>D054198</td>\n",
       "      <td>0.000999</td>\n",
       "      <td>0.019461</td>\n",
       "      <td>3.513773</td>\n",
       "      <td>3.494312</td>\n",
       "      <td>0.00327</td>\n",
       "    </tr>\n",
       "    <tr>\n",
       "      <th>3025</th>\n",
       "      <td>1730</td>\n",
       "      <td>D054198</td>\n",
       "      <td>0.000999</td>\n",
       "      <td>3.285529</td>\n",
       "      <td>0.534221</td>\n",
       "      <td>-2.751308</td>\n",
       "      <td>0.00327</td>\n",
       "    </tr>\n",
       "    <tr>\n",
       "      <th>1423</th>\n",
       "      <td>538</td>\n",
       "      <td>D003015</td>\n",
       "      <td>0.000999</td>\n",
       "      <td>0.000000</td>\n",
       "      <td>0.021102</td>\n",
       "      <td>0.021102</td>\n",
       "      <td>0.00327</td>\n",
       "    </tr>\n",
       "    <tr>\n",
       "      <th>1421</th>\n",
       "      <td>196081</td>\n",
       "      <td>D003015</td>\n",
       "      <td>0.000999</td>\n",
       "      <td>0.000000</td>\n",
       "      <td>0.003953</td>\n",
       "      <td>0.003953</td>\n",
       "      <td>0.00327</td>\n",
       "    </tr>\n",
       "    <tr>\n",
       "      <th>1419</th>\n",
       "      <td>46255</td>\n",
       "      <td>D003015</td>\n",
       "      <td>0.000999</td>\n",
       "      <td>0.005318</td>\n",
       "      <td>0.802829</td>\n",
       "      <td>0.797511</td>\n",
       "      <td>0.00327</td>\n",
       "    </tr>\n",
       "    <tr>\n",
       "      <th>...</th>\n",
       "      <td>...</td>\n",
       "      <td>...</td>\n",
       "      <td>...</td>\n",
       "      <td>...</td>\n",
       "      <td>...</td>\n",
       "      <td>...</td>\n",
       "      <td>...</td>\n",
       "    </tr>\n",
       "    <tr>\n",
       "      <th>81</th>\n",
       "      <td>1573535</td>\n",
       "      <td>D003924</td>\n",
       "      <td>0.986014</td>\n",
       "      <td>0.101011</td>\n",
       "      <td>0.101607</td>\n",
       "      <td>0.000596</td>\n",
       "      <td>1.00000</td>\n",
       "    </tr>\n",
       "    <tr>\n",
       "      <th>4729</th>\n",
       "      <td>836</td>\n",
       "      <td>D002318</td>\n",
       "      <td>0.978022</td>\n",
       "      <td>0.064532</td>\n",
       "      <td>0.072049</td>\n",
       "      <td>0.007516</td>\n",
       "      <td>1.00000</td>\n",
       "    </tr>\n",
       "    <tr>\n",
       "      <th>4054</th>\n",
       "      <td>80865</td>\n",
       "      <td>D007674</td>\n",
       "      <td>0.982018</td>\n",
       "      <td>0.039787</td>\n",
       "      <td>0.036532</td>\n",
       "      <td>-0.003255</td>\n",
       "      <td>1.00000</td>\n",
       "    </tr>\n",
       "    <tr>\n",
       "      <th>3200</th>\n",
       "      <td>570</td>\n",
       "      <td>D001714</td>\n",
       "      <td>1.000000</td>\n",
       "      <td>0.092869</td>\n",
       "      <td>0.118569</td>\n",
       "      <td>0.025701</td>\n",
       "      <td>1.00000</td>\n",
       "    </tr>\n",
       "    <tr>\n",
       "      <th>55</th>\n",
       "      <td>547</td>\n",
       "      <td>D003924</td>\n",
       "      <td>1.000000</td>\n",
       "      <td>0.171584</td>\n",
       "      <td>0.080214</td>\n",
       "      <td>-0.091370</td>\n",
       "      <td>1.00000</td>\n",
       "    </tr>\n",
       "  </tbody>\n",
       "</table>\n",
       "<p>5207 rows × 7 columns</p>\n",
       "</div>"
      ],
      "text/plain": [
       "        taxon  disease   p_value  mean_healthy  mean_disease  diff_mean  \\\n",
       "3045   241189  D054198  0.000999      0.019461      3.513773   3.494312   \n",
       "3025     1730  D054198  0.000999      3.285529      0.534221  -2.751308   \n",
       "1423      538  D003015  0.000999      0.000000      0.021102   0.021102   \n",
       "1421   196081  D003015  0.000999      0.000000      0.003953   0.003953   \n",
       "1419    46255  D003015  0.000999      0.005318      0.802829   0.797511   \n",
       "...       ...      ...       ...           ...           ...        ...   \n",
       "81    1573535  D003924  0.986014      0.101011      0.101607   0.000596   \n",
       "4729      836  D002318  0.978022      0.064532      0.072049   0.007516   \n",
       "4054    80865  D007674  0.982018      0.039787      0.036532  -0.003255   \n",
       "3200      570  D001714  1.000000      0.092869      0.118569   0.025701   \n",
       "55        547  D003924  1.000000      0.171584      0.080214  -0.091370   \n",
       "\n",
       "        p_adj  \n",
       "3045  0.00327  \n",
       "3025  0.00327  \n",
       "1423  0.00327  \n",
       "1421  0.00327  \n",
       "1419  0.00327  \n",
       "...       ...  \n",
       "81    1.00000  \n",
       "4729  1.00000  \n",
       "4054  1.00000  \n",
       "3200  1.00000  \n",
       "55    1.00000  \n",
       "\n",
       "[5207 rows x 7 columns]"
      ]
     },
     "metadata": {},
     "output_type": "display_data"
    }
   ],
   "source": [
    "# GENUS LEVEL MONTE CARLO PERMUTATIION FOR IDENTIFICATION OF DIFFERENTAILLY ABUNDANT TAXA - GENUS LEVEL -STEP 2\n",
    "# ---------------------------\n",
    "# Configuration\n",
    "# ---------------------------\n",
    "HEALTHY_CODE = \"D006262\"\n",
    "N_PERMUTATIONS = 1000\n",
    "RANDOM_SEED = 42\n",
    "\n",
    "# ---------------------------\n",
    "# Permutation Test Function\n",
    "# ---------------------------\n",
    "def permutation_test(x, y, num_permutations=N_PERMUTATIONS, stat_func=np.mean):\n",
    "    observed = stat_func(y) - stat_func(x)\n",
    "    combined = np.concatenate([x, y])\n",
    "    count = 0\n",
    "    for _ in range(num_permutations):\n",
    "        np.random.shuffle(combined)\n",
    "        new_x = combined[:len(x)]\n",
    "        new_y = combined[len(x):]\n",
    "        perm_stat = stat_func(new_y) - stat_func(new_x)\n",
    "        if abs(perm_stat) >= abs(observed):\n",
    "            count += 1\n",
    "    return (count + 1) / (num_permutations + 1)\n",
    "\n",
    "# ---------------------------\n",
    "# Prepare Data\n",
    "# ---------------------------\n",
    "disease_codes_genus = df_genus_retained['disease'].unique()\n",
    "disease_codes_genus = [d for d in disease_codes_genus if d != HEALTHY_CODE]\n",
    "\n",
    "healthy_df_genus = df_genus_retained[df_genus_retained['disease'] == HEALTHY_CODE]\n",
    "healthy_uids_genus = healthy_df_genus['loaded_uid'].unique()\n",
    "\n",
    "# ---------------------------\n",
    "# Run Permutation Testing\n",
    "# ---------------------------\n",
    "results_genus = []\n",
    "rng = np.random.default_rng(RANDOM_SEED)\n",
    "\n",
    "for disease_code in tqdm(disease_codes_genus, desc=\"Diseases\", position=0):\n",
    "    disease_df_genus = df_genus_retained[df_genus_retained['disease'] == disease_code]\n",
    "    disease_uids_genus = disease_df_genus['loaded_uid'].unique()\n",
    "    disease_taxa_genus = disease_df_genus['ncbi_taxon_id'].unique()\n",
    "\n",
    "    for taxon in tqdm(disease_taxa_genus, desc=f\"Taxa in {disease_code}\", position=1, leave=False):\n",
    "        disease_series = disease_df_genus[disease_df_genus['ncbi_taxon_id'] == taxon].set_index('loaded_uid')['relative_abundance']\n",
    "        healthy_series = healthy_df_genus[healthy_df_genus['ncbi_taxon_id'] == taxon].set_index('loaded_uid')['relative_abundance']\n",
    "\n",
    "        disease_vals = disease_series.reindex(disease_uids_genus, fill_value=0).values\n",
    "        healthy_vals = healthy_series.reindex(healthy_uids_genus, fill_value=0).values\n",
    "\n",
    "        # Skip if absent in both groups\n",
    "        if np.all(disease_vals == 0) and np.all(healthy_vals == 0):\n",
    "            continue\n",
    "\n",
    "        # Skip if present in healthy but completely absent in disease\n",
    "        if np.any(healthy_vals > 0) and np.all(disease_vals == 0):\n",
    "            continue\n",
    "\n",
    "        # Downsample to equal sample size\n",
    "        if len(healthy_vals) > len(disease_vals):\n",
    "            healthy_vals = rng.choice(healthy_vals, size=len(disease_vals), replace=False)\n",
    "        elif len(disease_vals) > len(healthy_vals):\n",
    "            disease_vals = rng.choice(disease_vals, size=len(healthy_vals), replace=False)\n",
    "\n",
    "        # Run permutation test\n",
    "        p_val = permutation_test(healthy_vals, disease_vals)\n",
    "\n",
    "        # Store result\n",
    "        results_genus.append({\n",
    "            'taxon': taxon,\n",
    "            'disease': disease_code,\n",
    "            'p_value': p_val,\n",
    "            'mean_healthy': np.mean(healthy_vals),\n",
    "            'mean_disease': np.mean(disease_vals),\n",
    "            'diff_mean': np.mean(disease_vals) - np.mean(healthy_vals)\n",
    "        })\n",
    "\n",
    "# ---------------------------\n",
    "# Process Results\n",
    "# ---------------------------\n",
    "results_df_genus = pd.DataFrame(results_genus)\n",
    "\n",
    "if not results_df_genus.empty:\n",
    "    # FDR correction\n",
    "    results_df_genus['p_adj'] = multipletests(results_df_genus['p_value'], method='fdr_bh')[1]\n",
    "\n",
    "    # Summary Table\n",
    "    summary_table_genus = (\n",
    "        results_df_genus\n",
    "        .groupby(\"disease\")\n",
    "        .agg(\n",
    "            n_taxa_tested=(\"taxon\", \"nunique\"),\n",
    "            n_significant=(\"p_adj\", lambda x: (x < 0.05).sum())\n",
    "        )\n",
    "        .sort_values(\"n_taxa_tested\", ascending=False)\n",
    "    )\n",
    "\n",
    "    # ---------------------------\n",
    "    # Plot with disease names\n",
    "    # ---------------------------\n",
    "    plot_df_genus = summary_table_genus.reset_index()\n",
    "    plot_df_genus['disease_name'] = plot_df_genus['disease'].map(disease_dict).fillna(plot_df_genus['disease'])\n",
    "    plot_df_genus = plot_df_genus.sort_values(\"n_taxa_tested\", ascending=False)\n",
    "\n",
    "    plt.figure(figsize=(22, 10))\n",
    "    x = np.arange(len(plot_df_genus))\n",
    "    width = 0.35\n",
    "\n",
    "    plt.bar(x - width/2, plot_df_genus['n_taxa_tested'], width=width, label='Tested Taxa',\n",
    "            color='lightgrey', edgecolor='black', linewidth=0.8)\n",
    "    plt.bar(x + width/2, plot_df_genus['n_significant'], width=width, label='Significant (FDR < 0.05)',\n",
    "            color='teal', edgecolor='black', linewidth=0.8)\n",
    "\n",
    "    plt.xticks(x, plot_df_genus['disease_name'], rotation=90)\n",
    "    plt.ylabel(\"Number of Unique Taxa\")\n",
    "    plt.title(\"Differentially Abundant Taxa per Disease (Genus Level)\", fontweight='bold')\n",
    "    plt.legend()\n",
    "    plt.margins(x=0.01)  # Reduce side padding\n",
    "    plt.tight_layout()\n",
    "    plt.show()\n",
    "\n",
    "    # ---------------------------\n",
    "    # Create filtered sample-level data with only significant taxa\n",
    "    # ---------------------------\n",
    "    sig_taxa_genus = results_df_genus.query(\"p_adj < 0.05\")[[\"disease\", \"taxon\"]].drop_duplicates()\n",
    "    df_genus_significant = df_genus_retained.merge(\n",
    "        sig_taxa_genus,\n",
    "        left_on=[\"disease\", \"ncbi_taxon_id\"],\n",
    "        right_on=[\"disease\", \"taxon\"],\n",
    "        how=\"inner\"\n",
    "    ).drop(columns=\"taxon\")\n",
    "\n",
    "    # ---------------------------\n",
    "    # Descriptive Summary\n",
    "    # ---------------------------\n",
    "    print(\"✅ PERMUTATION TESTING COMPLETE\")\n",
    "    print(f\"• Total diseases tested: {len(summary_table_genus)}\")\n",
    "    print(f\"• Total (disease, taxon) pairs tested: {results_df_genus.shape[0]}\")\n",
    "    print(f\"• Total significant pairs (FDR < 0.05): {(results_df_genus['p_adj'] < 0.05).sum()}\")\n",
    "    print(f\"• Shape of df_genus_significant: {df_genus_significant.shape}\")\n",
    "    print(f\"• Unique significant taxa: {df_genus_significant['ncbi_taxon_id'].nunique()}\")\n",
    "    print(f\"• Diseases with significant taxa: {df_genus_significant['disease'].nunique()}\")\n",
    "    \n",
    "    # ---------------------------\n",
    "    # Save Significant Taxa Data\n",
    "    # ---------------------------\n",
    "    df_genus_significant.to_csv(\"/mnt/iusers01/fatpou01/bmh01/msc-bioinf-2024-2025/h44063jg/gmp_jms/significant_genus_taxa.txt\", sep=\"\\t\", index=False)\n",
    "    print(\"📁 Saved significant genus-level taxa to 'significant_genus_taxa.txt'\")  \n",
    "\n",
    "    display(summary_table_genus)\n",
    "    display(results_df_genus.sort_values(\"p_adj\"))\n",
    "\n",
    "else:\n",
    "    print(\"⚠️ No valid taxa comparisons passed filtering.\")\n"
   ]
  },
  {
   "cell_type": "code",
   "execution_count": 8,
   "id": "8c2531b8",
   "metadata": {},
   "outputs": [
    {
     "data": {
      "application/vnd.jupyter.widget-view+json": {
       "model_id": "2ddc86ff8d47404996000e645c2cd2d1",
       "version_major": 2,
       "version_minor": 0
      },
      "text/plain": [
       "Diseases:   0%|          | 0/65 [00:00<?, ?it/s]"
      ]
     },
     "metadata": {},
     "output_type": "display_data"
    },
    {
     "data": {
      "application/vnd.jupyter.widget-view+json": {
       "model_id": "f4f12fd5dd564ec1a5727af19be58f3a",
       "version_major": 2,
       "version_minor": 0
      },
      "text/plain": [
       "Taxa in D003924:   0%|          | 0/285 [00:00<?, ?it/s]"
      ]
     },
     "metadata": {},
     "output_type": "display_data"
    },
    {
     "data": {
      "application/vnd.jupyter.widget-view+json": {
       "model_id": "41aa684cf85742ce8772cb99c2ef0725",
       "version_major": 2,
       "version_minor": 0
      },
      "text/plain": [
       "Taxa in D003093:   0%|          | 0/433 [00:00<?, ?it/s]"
      ]
     },
     "metadata": {},
     "output_type": "display_data"
    },
    {
     "data": {
      "application/vnd.jupyter.widget-view+json": {
       "model_id": "cb98ad5b462c4b2cb51e18012680b008",
       "version_major": 2,
       "version_minor": 0
      },
      "text/plain": [
       "Taxa in D003967:   0%|          | 0/356 [00:00<?, ?it/s]"
      ]
     },
     "metadata": {},
     "output_type": "display_data"
    },
    {
     "data": {
      "application/vnd.jupyter.widget-view+json": {
       "model_id": "8c0599fcc7b648f8812b94199adb7821",
       "version_major": 2,
       "version_minor": 0
      },
      "text/plain": [
       "Taxa in D003424:   0%|          | 0/336 [00:00<?, ?it/s]"
      ]
     },
     "metadata": {},
     "output_type": "display_data"
    },
    {
     "data": {
      "application/vnd.jupyter.widget-view+json": {
       "model_id": "036f448eb660405ab62f7ef7c8e01a9b",
       "version_major": 2,
       "version_minor": 0
      },
      "text/plain": [
       "Taxa in D006973:   0%|          | 0/103 [00:00<?, ?it/s]"
      ]
     },
     "metadata": {},
     "output_type": "display_data"
    },
    {
     "data": {
      "application/vnd.jupyter.widget-view+json": {
       "model_id": "27a2ec6d4f704c1dad708f2422684a77",
       "version_major": 2,
       "version_minor": 0
      },
      "text/plain": [
       "Taxa in D007234:   0%|          | 0/148 [00:00<?, ?it/s]"
      ]
     },
     "metadata": {},
     "output_type": "display_data"
    },
    {
     "data": {
      "application/vnd.jupyter.widget-view+json": {
       "model_id": "e6ff7d4a0c9e4c80b7f00b0d0d415e5f",
       "version_major": 2,
       "version_minor": 0
      },
      "text/plain": [
       "Taxa in D015212:   0%|          | 0/387 [00:00<?, ?it/s]"
      ]
     },
     "metadata": {},
     "output_type": "display_data"
    },
    {
     "data": {
      "application/vnd.jupyter.widget-view+json": {
       "model_id": "4d800ebd21594d698aac92995dccf0ae",
       "version_major": 2,
       "version_minor": 0
      },
      "text/plain": [
       "Taxa in D015497:   0%|          | 0/169 [00:00<?, ?it/s]"
      ]
     },
     "metadata": {},
     "output_type": "display_data"
    },
    {
     "data": {
      "application/vnd.jupyter.widget-view+json": {
       "model_id": "82e7d5684b4c4f97807141442eadba87",
       "version_major": 2,
       "version_minor": 0
      },
      "text/plain": [
       "Taxa in D043183:   0%|          | 0/432 [00:00<?, ?it/s]"
      ]
     },
     "metadata": {},
     "output_type": "display_data"
    },
    {
     "data": {
      "application/vnd.jupyter.widget-view+json": {
       "model_id": "93c32342855a457cb430a7f9052f28ac",
       "version_major": 2,
       "version_minor": 0
      },
      "text/plain": [
       "Taxa in D007230:   0%|          | 0/122 [00:00<?, ?it/s]"
      ]
     },
     "metadata": {},
     "output_type": "display_data"
    },
    {
     "data": {
      "application/vnd.jupyter.widget-view+json": {
       "model_id": "7859ca79deb24d4f81f2e26a614ab9e6",
       "version_major": 2,
       "version_minor": 0
      },
      "text/plain": [
       "Taxa in D065626:   0%|          | 0/173 [00:00<?, ?it/s]"
      ]
     },
     "metadata": {},
     "output_type": "display_data"
    },
    {
     "data": {
      "application/vnd.jupyter.widget-view+json": {
       "model_id": "f7cf20073dae4a16beabf372e4f9a4d3",
       "version_major": 2,
       "version_minor": 0
      },
      "text/plain": [
       "Taxa in D001321:   0%|          | 0/183 [00:00<?, ?it/s]"
      ]
     },
     "metadata": {},
     "output_type": "display_data"
    },
    {
     "data": {
      "application/vnd.jupyter.widget-view+json": {
       "model_id": "9cc3e8f97c144d489647cf08fc578c93",
       "version_major": 2,
       "version_minor": 0
      },
      "text/plain": [
       "Taxa in D012778:   0%|          | 0/162 [00:00<?, ?it/s]"
      ]
     },
     "metadata": {},
     "output_type": "display_data"
    },
    {
     "data": {
      "application/vnd.jupyter.widget-view+json": {
       "model_id": "6a627c78ba7f429bb76fa2330a2eb3e0",
       "version_major": 2,
       "version_minor": 0
      },
      "text/plain": [
       "Taxa in D003922:   0%|          | 0/105 [00:00<?, ?it/s]"
      ]
     },
     "metadata": {},
     "output_type": "display_data"
    },
    {
     "data": {
      "application/vnd.jupyter.widget-view+json": {
       "model_id": "36e4621f348d460b8e54eb16c5f23b16",
       "version_major": 2,
       "version_minor": 0
      },
      "text/plain": [
       "Taxa in D003015:   0%|          | 0/444 [00:00<?, ?it/s]"
      ]
     },
     "metadata": {},
     "output_type": "display_data"
    },
    {
     "data": {
      "application/vnd.jupyter.widget-view+json": {
       "model_id": "1a1118f346af49fca8ffe8fe598c668d",
       "version_major": 2,
       "version_minor": 0
      },
      "text/plain": [
       "Taxa in D006678:   0%|          | 0/105 [00:00<?, ?it/s]"
      ]
     },
     "metadata": {},
     "output_type": "display_data"
    },
    {
     "data": {
      "application/vnd.jupyter.widget-view+json": {
       "model_id": "c4639c93b9244dbc829f0de56be064be",
       "version_major": 2,
       "version_minor": 0
      },
      "text/plain": [
       "Taxa in D014607:   0%|          | 0/102 [00:00<?, ?it/s]"
      ]
     },
     "metadata": {},
     "output_type": "display_data"
    },
    {
     "data": {
      "application/vnd.jupyter.widget-view+json": {
       "model_id": "a53caa39965f471caa91aabfe58bb81d",
       "version_major": 2,
       "version_minor": 0
      },
      "text/plain": [
       "Taxa in D013274:   0%|          | 0/235 [00:00<?, ?it/s]"
      ]
     },
     "metadata": {},
     "output_type": "display_data"
    },
    {
     "data": {
      "application/vnd.jupyter.widget-view+json": {
       "model_id": "784f27f6a4eb4c6e973a115148b437ce",
       "version_major": 2,
       "version_minor": 0
      },
      "text/plain": [
       "Taxa in D011565:   0%|          | 0/60 [00:00<?, ?it/s]"
      ]
     },
     "metadata": {},
     "output_type": "display_data"
    },
    {
     "data": {
      "application/vnd.jupyter.widget-view+json": {
       "model_id": "2ebaf36e75844f858c5fb76e027e19ab",
       "version_major": 2,
       "version_minor": 0
      },
      "text/plain": [
       "Taxa in D050177:   0%|          | 0/77 [00:00<?, ?it/s]"
      ]
     },
     "metadata": {},
     "output_type": "display_data"
    },
    {
     "data": {
      "application/vnd.jupyter.widget-view+json": {
       "model_id": "dc43a644ea454baba817f140eb71c9c9",
       "version_major": 2,
       "version_minor": 0
      },
      "text/plain": [
       "Taxa in D009765:   0%|          | 0/221 [00:00<?, ?it/s]"
      ]
     },
     "metadata": {},
     "output_type": "display_data"
    },
    {
     "data": {
      "application/vnd.jupyter.widget-view+json": {
       "model_id": "a124729f3ba342869ac0707bda633120",
       "version_major": 2,
       "version_minor": 0
      },
      "text/plain": [
       "Taxa in D006515:   0%|          | 0/92 [00:00<?, ?it/s]"
      ]
     },
     "metadata": {},
     "output_type": "display_data"
    },
    {
     "data": {
      "application/vnd.jupyter.widget-view+json": {
       "model_id": "a9be7abfe5e64a95954424f13c23abb4",
       "version_major": 2,
       "version_minor": 0
      },
      "text/plain": [
       "Taxa in D003920:   0%|          | 0/232 [00:00<?, ?it/s]"
      ]
     },
     "metadata": {},
     "output_type": "display_data"
    },
    {
     "data": {
      "application/vnd.jupyter.widget-view+json": {
       "model_id": "b190ecaadb184ac88b38e67dcde199a7",
       "version_major": 2,
       "version_minor": 0
      },
      "text/plain": [
       "Taxa in D024821:   0%|          | 0/87 [00:00<?, ?it/s]"
      ]
     },
     "metadata": {},
     "output_type": "display_data"
    },
    {
     "data": {
      "application/vnd.jupyter.widget-view+json": {
       "model_id": "31a5da00e3464727b2de4f80988ab135",
       "version_major": 2,
       "version_minor": 0
      },
      "text/plain": [
       "Taxa in D016360:   0%|          | 0/131 [00:00<?, ?it/s]"
      ]
     },
     "metadata": {},
     "output_type": "display_data"
    },
    {
     "data": {
      "application/vnd.jupyter.widget-view+json": {
       "model_id": "c1dd888d6c7e4657923fef976fb06a95",
       "version_major": 2,
       "version_minor": 0
      },
      "text/plain": [
       "Taxa in D000855:   0%|          | 0/81 [00:00<?, ?it/s]"
      ]
     },
     "metadata": {},
     "output_type": "display_data"
    },
    {
     "data": {
      "application/vnd.jupyter.widget-view+json": {
       "model_id": "2811f41370af46b8989ae81463cce422",
       "version_major": 2,
       "version_minor": 0
      },
      "text/plain": [
       "Taxa in D007676:   0%|          | 0/110 [00:00<?, ?it/s]"
      ]
     },
     "metadata": {},
     "output_type": "display_data"
    },
    {
     "data": {
      "application/vnd.jupyter.widget-view+json": {
       "model_id": "75404302d6ab47f894bfd8a2203b076a",
       "version_major": 2,
       "version_minor": 0
      },
      "text/plain": [
       "Taxa in D008545:   0%|          | 0/182 [00:00<?, ?it/s]"
      ]
     },
     "metadata": {},
     "output_type": "display_data"
    },
    {
     "data": {
      "application/vnd.jupyter.widget-view+json": {
       "model_id": "4f2463c4fef54e5d96b51b9706893458",
       "version_major": 2,
       "version_minor": 0
      },
      "text/plain": [
       "Taxa in D003108:   0%|          | 0/218 [00:00<?, ?it/s]"
      ]
     },
     "metadata": {},
     "output_type": "display_data"
    },
    {
     "data": {
      "application/vnd.jupyter.widget-view+json": {
       "model_id": "0d1e45b9c1894b9c915a157d57eb884f",
       "version_major": 2,
       "version_minor": 0
      },
      "text/plain": [
       "Taxa in D003248:   0%|          | 0/380 [00:00<?, ?it/s]"
      ]
     },
     "metadata": {},
     "output_type": "display_data"
    },
    {
     "data": {
      "application/vnd.jupyter.widget-view+json": {
       "model_id": "551130d042a545eba209ccf747034757",
       "version_major": 2,
       "version_minor": 0
      },
      "text/plain": [
       "Taxa in D003550:   0%|          | 0/126 [00:00<?, ?it/s]"
      ]
     },
     "metadata": {},
     "output_type": "display_data"
    },
    {
     "data": {
      "application/vnd.jupyter.widget-view+json": {
       "model_id": "30d2aa9b331b470b97ca5fe4b9d4e5ec",
       "version_major": 2,
       "version_minor": 0
      },
      "text/plain": [
       "Taxa in D015179:   0%|          | 0/571 [00:00<?, ?it/s]"
      ]
     },
     "metadata": {},
     "output_type": "display_data"
    },
    {
     "data": {
      "application/vnd.jupyter.widget-view+json": {
       "model_id": "3454513f5f684c4f91277f6dc3351505",
       "version_major": 2,
       "version_minor": 0
      },
      "text/plain": [
       "Taxa in D000236:   0%|          | 0/213 [00:00<?, ?it/s]"
      ]
     },
     "metadata": {},
     "output_type": "display_data"
    },
    {
     "data": {
      "application/vnd.jupyter.widget-view+json": {
       "model_id": "95fc0965217f4924bcfffe26ae1b9f3b",
       "version_major": 2,
       "version_minor": 0
      },
      "text/plain": [
       "Taxa in D019337:   0%|          | 0/264 [00:00<?, ?it/s]"
      ]
     },
     "metadata": {},
     "output_type": "display_data"
    },
    {
     "data": {
      "application/vnd.jupyter.widget-view+json": {
       "model_id": "7cd359b1c76a4ad98abe450b2696777c",
       "version_major": 2,
       "version_minor": 0
      },
      "text/plain": [
       "Taxa in D016918:   0%|          | 0/75 [00:00<?, ?it/s]"
      ]
     },
     "metadata": {},
     "output_type": "display_data"
    },
    {
     "data": {
      "application/vnd.jupyter.widget-view+json": {
       "model_id": "944311eea917470e8be3517a4dabe4f9",
       "version_major": 2,
       "version_minor": 0
      },
      "text/plain": [
       "Taxa in D000067011:   0%|          | 0/97 [00:00<?, ?it/s]"
      ]
     },
     "metadata": {},
     "output_type": "display_data"
    },
    {
     "data": {
      "application/vnd.jupyter.widget-view+json": {
       "model_id": "8e980d31aa5d409ba1664d015e159c19",
       "version_major": 2,
       "version_minor": 0
      },
      "text/plain": [
       "Taxa in D001249:   0%|          | 0/120 [00:00<?, ?it/s]"
      ]
     },
     "metadata": {},
     "output_type": "display_data"
    },
    {
     "data": {
      "application/vnd.jupyter.widget-view+json": {
       "model_id": "f5a121bb3aad4164b50474e899f7ff47",
       "version_major": 2,
       "version_minor": 0
      },
      "text/plain": [
       "Taxa in D054198:   0%|          | 0/230 [00:00<?, ?it/s]"
      ]
     },
     "metadata": {},
     "output_type": "display_data"
    },
    {
     "data": {
      "application/vnd.jupyter.widget-view+json": {
       "model_id": "462ff2ae3677499fa5b66e69e193fc63",
       "version_major": 2,
       "version_minor": 0
      },
      "text/plain": [
       "Taxa in D001714:   0%|          | 0/310 [00:00<?, ?it/s]"
      ]
     },
     "metadata": {},
     "output_type": "display_data"
    },
    {
     "data": {
      "application/vnd.jupyter.widget-view+json": {
       "model_id": "42a260f4dc0a44fd8d99600391beff6e",
       "version_major": 2,
       "version_minor": 0
      },
      "text/plain": [
       "Taxa in D001172:   0%|          | 0/106 [00:00<?, ?it/s]"
      ]
     },
     "metadata": {},
     "output_type": "display_data"
    },
    {
     "data": {
      "application/vnd.jupyter.widget-view+json": {
       "model_id": "25437ff6a4964907ada961111f7b9b5e",
       "version_major": 2,
       "version_minor": 0
      },
      "text/plain": [
       "Taxa in D001943:   0%|          | 0/125 [00:00<?, ?it/s]"
      ]
     },
     "metadata": {},
     "output_type": "display_data"
    },
    {
     "data": {
      "application/vnd.jupyter.widget-view+json": {
       "model_id": "fdf577cd816b4af6a415b1cd3a1e7f1d",
       "version_major": 2,
       "version_minor": 0
      },
      "text/plain": [
       "Taxa in D013167:   0%|          | 0/105 [00:00<?, ?it/s]"
      ]
     },
     "metadata": {},
     "output_type": "display_data"
    },
    {
     "data": {
      "application/vnd.jupyter.widget-view+json": {
       "model_id": "d0033918a0ae4107af89407a72bab17b",
       "version_major": 2,
       "version_minor": 0
      },
      "text/plain": [
       "Taxa in D008103:   0%|          | 0/192 [00:00<?, ?it/s]"
      ]
     },
     "metadata": {},
     "output_type": "display_data"
    },
    {
     "data": {
      "application/vnd.jupyter.widget-view+json": {
       "model_id": "1997bf2cfdd942ccb6e8386c7a2a0526",
       "version_major": 2,
       "version_minor": 0
      },
      "text/plain": [
       "Taxa in D001327:   0%|          | 0/341 [00:00<?, ?it/s]"
      ]
     },
     "metadata": {},
     "output_type": "display_data"
    },
    {
     "data": {
      "application/vnd.jupyter.widget-view+json": {
       "model_id": "10e9b96c55b841a6ad503bf5bd1f7d8f",
       "version_major": 2,
       "version_minor": 0
      },
      "text/plain": [
       "Taxa in D008107:   0%|          | 0/169 [00:00<?, ?it/s]"
      ]
     },
     "metadata": {},
     "output_type": "display_data"
    },
    {
     "data": {
      "application/vnd.jupyter.widget-view+json": {
       "model_id": "e301be68f09a409b9bdc13cb5778969d",
       "version_major": 2,
       "version_minor": 0
      },
      "text/plain": [
       "Taxa in D013959:   0%|          | 0/352 [00:00<?, ?it/s]"
      ]
     },
     "metadata": {},
     "output_type": "display_data"
    },
    {
     "data": {
      "application/vnd.jupyter.widget-view+json": {
       "model_id": "e74558d3c2784ec992838175c3fa9b8e",
       "version_major": 2,
       "version_minor": 0
      },
      "text/plain": [
       "Taxa in D007410:   0%|          | 0/293 [00:00<?, ?it/s]"
      ]
     },
     "metadata": {},
     "output_type": "display_data"
    },
    {
     "data": {
      "application/vnd.jupyter.widget-view+json": {
       "model_id": "9162dfb4c2e14792b4157ac7ad77f95e",
       "version_major": 2,
       "version_minor": 0
      },
      "text/plain": [
       "Taxa in D008881:   0%|          | 0/364 [00:00<?, ?it/s]"
      ]
     },
     "metadata": {},
     "output_type": "display_data"
    },
    {
     "data": {
      "application/vnd.jupyter.widget-view+json": {
       "model_id": "d3feefac28ec46ec965d2d72d71f1958",
       "version_major": 2,
       "version_minor": 0
      },
      "text/plain": [
       "Taxa in D007674:   0%|          | 0/156 [00:00<?, ?it/s]"
      ]
     },
     "metadata": {},
     "output_type": "display_data"
    },
    {
     "data": {
      "application/vnd.jupyter.widget-view+json": {
       "model_id": "f741ec7b596e47d89de98b9eb10766f8",
       "version_major": 2,
       "version_minor": 0
      },
      "text/plain": [
       "Taxa in D008171:   0%|          | 0/340 [00:00<?, ?it/s]"
      ]
     },
     "metadata": {},
     "output_type": "display_data"
    },
    {
     "data": {
      "application/vnd.jupyter.widget-view+json": {
       "model_id": "6c4b7688c3704ccc979ed92740fec38e",
       "version_major": 2,
       "version_minor": 0
      },
      "text/plain": [
       "Taxa in D002446:   0%|          | 0/144 [00:00<?, ?it/s]"
      ]
     },
     "metadata": {},
     "output_type": "display_data"
    },
    {
     "data": {
      "application/vnd.jupyter.widget-view+json": {
       "model_id": "42970cdbc15c40638ed6cacc7368223d",
       "version_major": 2,
       "version_minor": 0
      },
      "text/plain": [
       "Taxa in D003863:   0%|          | 0/278 [00:00<?, ?it/s]"
      ]
     },
     "metadata": {},
     "output_type": "display_data"
    },
    {
     "data": {
      "application/vnd.jupyter.widget-view+json": {
       "model_id": "71ed31aa14af435e96bf1c175748f122",
       "version_major": 2,
       "version_minor": 0
      },
      "text/plain": [
       "Taxa in D012559:   0%|          | 0/275 [00:00<?, ?it/s]"
      ]
     },
     "metadata": {},
     "output_type": "display_data"
    },
    {
     "data": {
      "application/vnd.jupyter.widget-view+json": {
       "model_id": "141293f04f984d9cacd5195cf8ec8b98",
       "version_major": 2,
       "version_minor": 0
      },
      "text/plain": [
       "Taxa in D000067877:   0%|          | 0/242 [00:00<?, ?it/s]"
      ]
     },
     "metadata": {},
     "output_type": "display_data"
    },
    {
     "data": {
      "application/vnd.jupyter.widget-view+json": {
       "model_id": "5a311896596e4103804ac9b71be2c5b4",
       "version_major": 2,
       "version_minor": 0
      },
      "text/plain": [
       "Taxa in D004827:   0%|          | 0/122 [00:00<?, ?it/s]"
      ]
     },
     "metadata": {},
     "output_type": "display_data"
    },
    {
     "data": {
      "application/vnd.jupyter.widget-view+json": {
       "model_id": "fad389c88ee84d13b84450b8c5d96364",
       "version_major": 2,
       "version_minor": 0
      },
      "text/plain": [
       "Taxa in D001289:   0%|          | 0/238 [00:00<?, ?it/s]"
      ]
     },
     "metadata": {},
     "output_type": "display_data"
    },
    {
     "data": {
      "application/vnd.jupyter.widget-view+json": {
       "model_id": "9ba539b97e354cdb8065ecf4247675ec",
       "version_major": 2,
       "version_minor": 0
      },
      "text/plain": [
       "Taxa in D002318:   0%|          | 0/195 [00:00<?, ?it/s]"
      ]
     },
     "metadata": {},
     "output_type": "display_data"
    },
    {
     "data": {
      "application/vnd.jupyter.widget-view+json": {
       "model_id": "860319f283314fb0ba8a1138cbcf27a5",
       "version_major": 2,
       "version_minor": 0
      },
      "text/plain": [
       "Taxa in D014376:   0%|          | 0/104 [00:00<?, ?it/s]"
      ]
     },
     "metadata": {},
     "output_type": "display_data"
    },
    {
     "data": {
      "application/vnd.jupyter.widget-view+json": {
       "model_id": "899469bf5ceb458ea1e218615854f975",
       "version_major": 2,
       "version_minor": 0
      },
      "text/plain": [
       "Taxa in D012400:   0%|          | 0/117 [00:00<?, ?it/s]"
      ]
     },
     "metadata": {},
     "output_type": "display_data"
    },
    {
     "data": {
      "application/vnd.jupyter.widget-view+json": {
       "model_id": "5a43a49c5f6c4b6786f53c8d7c834227",
       "version_major": 2,
       "version_minor": 0
      },
      "text/plain": [
       "Taxa in D005764:   0%|          | 0/185 [00:00<?, ?it/s]"
      ]
     },
     "metadata": {},
     "output_type": "display_data"
    },
    {
     "data": {
      "application/vnd.jupyter.widget-view+json": {
       "model_id": "1f4a9bbea45a44bab6df202f36dfad7e",
       "version_major": 2,
       "version_minor": 0
      },
      "text/plain": [
       "Taxa in D037841:   0%|          | 0/171 [00:00<?, ?it/s]"
      ]
     },
     "metadata": {},
     "output_type": "display_data"
    },
    {
     "data": {
      "application/vnd.jupyter.widget-view+json": {
       "model_id": "c97a8f9e08574578bdd1e2306e63afc6",
       "version_major": 2,
       "version_minor": 0
      },
      "text/plain": [
       "Taxa in D016640:   0%|          | 0/143 [00:00<?, ?it/s]"
      ]
     },
     "metadata": {},
     "output_type": "display_data"
    },
    {
     "data": {
      "application/vnd.jupyter.widget-view+json": {
       "model_id": "8a0e68371739462099b965c6e316d51f",
       "version_major": 2,
       "version_minor": 0
      },
      "text/plain": [
       "Taxa in D006111:   0%|          | 0/67 [00:00<?, ?it/s]"
      ]
     },
     "metadata": {},
     "output_type": "display_data"
    },
    {
     "data": {
      "application/vnd.jupyter.widget-view+json": {
       "model_id": "04143ef69f8749d89503d3bdcb15705f",
       "version_major": 2,
       "version_minor": 0
      },
      "text/plain": [
       "Taxa in D050031:   0%|          | 0/83 [00:00<?, ?it/s]"
      ]
     },
     "metadata": {},
     "output_type": "display_data"
    },
    {
     "data": {
      "application/vnd.jupyter.widget-view+json": {
       "model_id": "b506a81324464384b11de40f6c79b078",
       "version_major": 2,
       "version_minor": 0
      },
      "text/plain": [
       "Taxa in D013964:   0%|          | 0/91 [00:00<?, ?it/s]"
      ]
     },
     "metadata": {},
     "output_type": "display_data"
    },
    {
     "data": {
      "image/png": "[encoded data removed]",
      "text/plain": [
       "<Figure size 2200x1000 with 1 Axes>"
      ]
     },
     "metadata": {},
     "output_type": "display_data"
    },
    {
     "name": "stdout",
     "output_type": "stream",
     "text": [
      "✅ PERMUTATION TESTING COMPLETE\n",
      "• Total diseases tested: 65\n",
      "• Total (disease, taxon) pairs tested: 13155\n",
      "• Total significant pairs (FDR < 0.05): 5679\n",
      "• Shape of df_species_significant: (810473, 5)\n",
      "• Unique significant taxa: 1151\n",
      "• Diseases with significant taxa: 65\n",
      "📁 Saved significant species-level taxa to 'significant_species_taxa.txt'\n"
     ]
    },
    {
     "data": {
      "application/vnd.microsoft.datawrangler.viewer.v0+json": {
       "columns": [
        {
         "name": "disease",
         "rawType": "object",
         "type": "string"
        },
        {
         "name": "n_taxa_tested",
         "rawType": "int64",
         "type": "integer"
        },
        {
         "name": "n_significant",
         "rawType": "int64",
         "type": "integer"
        }
       ],
       "ref": "585bad1f-8cc6-46b9-a380-23bc737097d7",
       "rows": [
        [
         "D015179",
         "571",
         "280"
        ],
        [
         "D003015",
         "444",
         "252"
        ],
        [
         "D003093",
         "433",
         "229"
        ],
        [
         "D043183",
         "432",
         "201"
        ],
        [
         "D015212",
         "387",
         "141"
        ],
        [
         "D003248",
         "380",
         "188"
        ],
        [
         "D008881",
         "364",
         "159"
        ],
        [
         "D003967",
         "356",
         "124"
        ],
        [
         "D013959",
         "352",
         "188"
        ],
        [
         "D001327",
         "341",
         "172"
        ],
        [
         "D008171",
         "340",
         "166"
        ],
        [
         "D003424",
         "336",
         "142"
        ],
        [
         "D001714",
         "310",
         "129"
        ],
        [
         "D007410",
         "293",
         "122"
        ],
        [
         "D003924",
         "285",
         "119"
        ],
        [
         "D003863",
         "278",
         "120"
        ],
        [
         "D012559",
         "275",
         "117"
        ],
        [
         "D019337",
         "264",
         "171"
        ],
        [
         "D000067877",
         "242",
         "56"
        ],
        [
         "D001289",
         "238",
         "95"
        ],
        [
         "D013274",
         "235",
         "212"
        ],
        [
         "D003920",
         "232",
         "95"
        ],
        [
         "D054198",
         "230",
         "142"
        ],
        [
         "D009765",
         "221",
         "129"
        ],
        [
         "D003108",
         "218",
         "111"
        ],
        [
         "D000236",
         "213",
         "98"
        ],
        [
         "D002318",
         "195",
         "60"
        ],
        [
         "D008103",
         "192",
         "96"
        ],
        [
         "D005764",
         "185",
         "74"
        ],
        [
         "D001321",
         "183",
         "57"
        ],
        [
         "D008545",
         "182",
         "51"
        ],
        [
         "D065626",
         "173",
         "38"
        ],
        [
         "D037841",
         "171",
         "58"
        ],
        [
         "D015497",
         "169",
         "42"
        ],
        [
         "D008107",
         "169",
         "32"
        ],
        [
         "D012778",
         "162",
         "61"
        ],
        [
         "D007674",
         "156",
         "39"
        ],
        [
         "D007234",
         "148",
         "96"
        ],
        [
         "D002446",
         "144",
         "32"
        ],
        [
         "D016640",
         "143",
         "36"
        ],
        [
         "D016360",
         "131",
         "51"
        ],
        [
         "D003550",
         "126",
         "46"
        ],
        [
         "D001943",
         "125",
         "53"
        ],
        [
         "D004827",
         "122",
         "19"
        ],
        [
         "D007230",
         "122",
         "74"
        ],
        [
         "D001249",
         "120",
         "51"
        ],
        [
         "D012400",
         "117",
         "39"
        ],
        [
         "D007676",
         "110",
         "39"
        ],
        [
         "D001172",
         "106",
         "22"
        ],
        [
         "D003922",
         "105",
         "18"
        ]
       ],
       "shape": {
        "columns": 2,
        "rows": 65
       }
      },
      "text/html": [
       "<div>\n",
       "<style scoped>\n",
       "    .dataframe tbody tr th:only-of-type {\n",
       "        vertical-align: middle;\n",
       "    }\n",
       "\n",
       "    .dataframe tbody tr th {\n",
       "        vertical-align: top;\n",
       "    }\n",
       "\n",
       "    .dataframe thead th {\n",
       "        text-align: right;\n",
       "    }\n",
       "</style>\n",
       "<table border=\"1\" class=\"dataframe\">\n",
       "  <thead>\n",
       "    <tr style=\"text-align: right;\">\n",
       "      <th></th>\n",
       "      <th>n_taxa_tested</th>\n",
       "      <th>n_significant</th>\n",
       "    </tr>\n",
       "    <tr>\n",
       "      <th>disease</th>\n",
       "      <th></th>\n",
       "      <th></th>\n",
       "    </tr>\n",
       "  </thead>\n",
       "  <tbody>\n",
       "    <tr>\n",
       "      <th>D015179</th>\n",
       "      <td>571</td>\n",
       "      <td>280</td>\n",
       "    </tr>\n",
       "    <tr>\n",
       "      <th>D003015</th>\n",
       "      <td>444</td>\n",
       "      <td>252</td>\n",
       "    </tr>\n",
       "    <tr>\n",
       "      <th>D003093</th>\n",
       "      <td>433</td>\n",
       "      <td>229</td>\n",
       "    </tr>\n",
       "    <tr>\n",
       "      <th>D043183</th>\n",
       "      <td>432</td>\n",
       "      <td>201</td>\n",
       "    </tr>\n",
       "    <tr>\n",
       "      <th>D015212</th>\n",
       "      <td>387</td>\n",
       "      <td>141</td>\n",
       "    </tr>\n",
       "    <tr>\n",
       "      <th>...</th>\n",
       "      <td>...</td>\n",
       "      <td>...</td>\n",
       "    </tr>\n",
       "    <tr>\n",
       "      <th>D000855</th>\n",
       "      <td>81</td>\n",
       "      <td>51</td>\n",
       "    </tr>\n",
       "    <tr>\n",
       "      <th>D050177</th>\n",
       "      <td>77</td>\n",
       "      <td>24</td>\n",
       "    </tr>\n",
       "    <tr>\n",
       "      <th>D016918</th>\n",
       "      <td>75</td>\n",
       "      <td>16</td>\n",
       "    </tr>\n",
       "    <tr>\n",
       "      <th>D006111</th>\n",
       "      <td>67</td>\n",
       "      <td>39</td>\n",
       "    </tr>\n",
       "    <tr>\n",
       "      <th>D011565</th>\n",
       "      <td>60</td>\n",
       "      <td>22</td>\n",
       "    </tr>\n",
       "  </tbody>\n",
       "</table>\n",
       "<p>65 rows × 2 columns</p>\n",
       "</div>"
      ],
      "text/plain": [
       "         n_taxa_tested  n_significant\n",
       "disease                              \n",
       "D015179            571            280\n",
       "D003015            444            252\n",
       "D003093            433            229\n",
       "D043183            432            201\n",
       "D015212            387            141\n",
       "...                ...            ...\n",
       "D000855             81             51\n",
       "D050177             77             24\n",
       "D016918             75             16\n",
       "D006111             67             39\n",
       "D011565             60             22\n",
       "\n",
       "[65 rows x 2 columns]"
      ]
     },
     "metadata": {},
     "output_type": "display_data"
    },
    {
     "data": {
      "application/vnd.microsoft.datawrangler.viewer.v0+json": {
       "columns": [
        {
         "name": "index",
         "rawType": "int64",
         "type": "integer"
        },
        {
         "name": "taxon",
         "rawType": "int64",
         "type": "integer"
        },
        {
         "name": "disease",
         "rawType": "object",
         "type": "string"
        },
        {
         "name": "p_value",
         "rawType": "float64",
         "type": "float"
        },
        {
         "name": "mean_healthy",
         "rawType": "float64",
         "type": "float"
        },
        {
         "name": "mean_disease",
         "rawType": "float64",
         "type": "float"
        },
        {
         "name": "diff_mean",
         "rawType": "float64",
         "type": "float"
        },
        {
         "name": "p_adj",
         "rawType": "float64",
         "type": "float"
        }
       ],
       "ref": "74b58d4e-cd91-4f37-8a21-50d52802a02a",
       "rows": [
        [
         "2828",
         "536633",
         "D065626",
         "0.000999000999000999",
         "0.13092566671830985",
         "0.011826348366197184",
         "-0.11909931835211267",
         "0.0034241422985560556"
        ],
        [
         "8519",
         "1613",
         "D008103",
         "0.000999000999000999",
         "0.0015100770634328359",
         "0.09579539343283582",
         "0.09428531636940297",
         "0.0034241422985560556"
        ],
        [
         "9902",
         "338188",
         "D008881",
         "0.000999000999000999",
         "0.24400844771080138",
         "0.031981323728222995",
         "-0.2120271239825784",
         "0.0034241422985560556"
        ],
        [
         "4797",
         "64178",
         "D003920",
         "0.000999000999000999",
         "0.0",
         "0.031188751219512194",
         "0.031188751219512194",
         "0.0034241422985560556"
        ],
        [
         "4798",
         "68188",
         "D003920",
         "0.000999000999000999",
         "0.0",
         "0.09456819780487805",
         "0.09456819780487805",
         "0.0034241422985560556"
        ],
        [
         "4779",
         "37923",
         "D003920",
         "0.000999000999000999",
         "0.0",
         "0.08375358544715446",
         "0.08375358544715446",
         "0.0034241422985560556"
        ],
        [
         "4783",
         "39491",
         "D003920",
         "0.000999000999000999",
         "2.194580104065041",
         "0.19572710871544718",
         "-1.9988529953495937",
         "0.0034241422985560556"
        ],
        [
         "4784",
         "39494",
         "D003920",
         "0.000999000999000999",
         "5.659408943089431e-05",
         "0.17217268699186994",
         "0.17211609290243904",
         "0.0034241422985560556"
        ],
        [
         "4786",
         "39497",
         "D003920",
         "0.000999000999000999",
         "0.031047064243902436",
         "0.11144616383739837",
         "0.08039909959349593",
         "0.0034241422985560556"
        ],
        [
         "4788",
         "40518",
         "D003920",
         "0.000999000999000999",
         "1.1532425482764228",
         "0.19644004717073169",
         "-0.9568025011056911",
         "0.0034241422985560556"
        ],
        [
         "4757",
         "1656",
         "D003920",
         "0.000999000999000999",
         "0.0",
         "0.016299062764227643",
         "0.016299062764227643",
         "0.0034241422985560556"
        ],
        [
         "4761",
         "2358",
         "D003920",
         "0.000999000999000999",
         "8.366341463414634e-06",
         "0.1092217531707317",
         "0.10921338682926829",
         "0.0034241422985560556"
        ],
        [
         "4763",
         "28034",
         "D003920",
         "0.000999000999000999",
         "0.0",
         "0.18413419615447155",
         "0.18413419615447155",
         "0.0034241422985560556"
        ],
        [
         "4808",
         "187327",
         "D003920",
         "0.000999000999000999",
         "0.12609371071544714",
         "0.5708733106504064",
         "0.4447795999349592",
         "0.0034241422985560556"
        ],
        [
         "4809",
         "191495",
         "D003920",
         "0.000999000999000999",
         "5.720845528455285e-05",
         "0.05786378040650406",
         "0.05780657195121951",
         "0.0034241422985560556"
        ],
        [
         "4814",
         "225195",
         "D003920",
         "0.000999000999000999",
         "0.0",
         "0.08072347813008131",
         "0.08072347813008131",
         "0.0034241422985560556"
        ],
        [
         "8517",
         "1584",
         "D008103",
         "0.000999000999000999",
         "0.005041924820895521",
         "0.10515767753358209",
         "0.10011575271268656",
         "0.0034241422985560556"
        ],
        [
         "11098",
         "216778",
         "D003863",
         "0.000999000999000999",
         "7.322560784313725e-05",
         "0.06474858809803921",
         "0.06467536249019608",
         "0.0034241422985560556"
        ],
        [
         "11012",
         "47880",
         "D003863",
         "0.000999000999000999",
         "0.0008655748784313726",
         "0.1394171942705882",
         "0.13855161939215685",
         "0.0034241422985560556"
        ],
        [
         "11013",
         "47884",
         "D003863",
         "0.000999000999000999",
         "0.00021611729411764706",
         "0.05271931919215686",
         "0.05250320189803921",
         "0.0034241422985560556"
        ],
        [
         "11014",
         "70775",
         "D003863",
         "0.000999000999000999",
         "0.0002982045490196078",
         "0.006627088576470588",
         "0.006328884027450981",
         "0.0034241422985560556"
        ],
        [
         "11015",
         "243924",
         "D003863",
         "0.000999000999000999",
         "0.0008736489411764706",
         "0.02140582914509804",
         "0.020532180203921568",
         "0.0034241422985560556"
        ],
        [
         "11016",
         "310300",
         "D003863",
         "0.000999000999000999",
         "0.0016090237960784313",
         "0.02720988483137255",
         "0.02560086103529412",
         "0.0034241422985560556"
        ],
        [
         "2867",
         "861",
         "D065626",
         "0.000999000999000999",
         "0.0003439142253521127",
         "0.023075556774647885",
         "0.022731642549295772",
         "0.0034241422985560556"
        ],
        [
         "2870",
         "1686",
         "D065626",
         "0.000999000999000999",
         "0.6544979099295775",
         "0.04553246830985916",
         "-0.6089654416197183",
         "0.0034241422985560556"
        ],
        [
         "2852",
         "410072",
         "D065626",
         "0.000999000999000999",
         "0.32777873845070427",
         "0.7854279264788733",
         "0.457649188028169",
         "0.0034241422985560556"
        ],
        [
         "11058",
         "516075",
         "D003863",
         "0.000999000999000999",
         "3.20254862745098e-05",
         "0.06645531703529413",
         "0.06642329154901962",
         "0.0034241422985560556"
        ],
        [
         "11066",
         "1472",
         "D003863",
         "0.000999000999000999",
         "0.0",
         "0.01113968725490196",
         "0.01113968725490196",
         "0.0034241422985560556"
        ],
        [
         "11069",
         "300",
         "D003863",
         "0.000999000999000999",
         "5.546156862745098e-06",
         "0.011934812462745097",
         "0.011929266305882352",
         "0.0034241422985560556"
        ],
        [
         "11070",
         "301",
         "D003863",
         "0.000999000999000999",
         "0.0",
         "0.07046439592156864",
         "0.07046439592156864",
         "0.0034241422985560556"
        ],
        [
         "2913",
         "116085",
         "D065626",
         "0.000999000999000999",
         "0.04015408450704225",
         "0.1978694366197183",
         "0.15771535211267604",
         "0.0034241422985560556"
        ],
        [
         "10980",
         "1559",
         "D003863",
         "0.000999000999000999",
         "0.29482154327058824",
         "0.032685409760784316",
         "-0.2621361335098039",
         "0.0034241422985560556"
        ],
        [
         "8574",
         "165179",
         "D008103",
         "0.000999000999000999",
         "7.2069495117164175",
         "2.5636166391044775",
         "-4.64333287261194",
         "0.0034241422985560556"
        ],
        [
         "2806",
         "84026",
         "D065626",
         "0.000999000999000999",
         "0.2529271307746479",
         "0.045903574845070426",
         "-0.20702355592957747",
         "0.0034241422985560556"
        ],
        [
         "2811",
         "169435",
         "D065626",
         "0.000999000999000999",
         "0.16209867260563382",
         "0.050247242950704235",
         "-0.11185142965492959",
         "0.0034241422985560556"
        ],
        [
         "11077",
         "202611",
         "D003863",
         "0.000999000999000999",
         "0.00026451060000000007",
         "0.014810861996078433",
         "0.014546351396078433",
         "0.0034241422985560556"
        ],
        [
         "2794",
         "39486",
         "D065626",
         "0.000999000999000999",
         "0.15167512809859154",
         "0.42850286783098596",
         "0.2768277397323944",
         "0.0034241422985560556"
        ],
        [
         "2795",
         "39491",
         "D065626",
         "0.000999000999000999",
         "1.527218085274648",
         "3.8134037060352113",
         "2.2861856207605635",
         "0.0034241422985560556"
        ],
        [
         "2802",
         "46228",
         "D065626",
         "0.000999000999000999",
         "0.14874642042253522",
         "0.4428248671830986",
         "0.2940784467605634",
         "0.0034241422985560556"
        ],
        [
         "11136",
         "88431",
         "D012559",
         "0.000999000999000999",
         "0.1888782175139442",
         "0.02652259899203187",
         "-0.16235561852191233",
         "0.0034241422985560556"
        ],
        [
         "2791",
         "33039",
         "D065626",
         "0.000999000999000999",
         "0.5184188997887323",
         "1.5743072106056337",
         "1.0558883108169015",
         "0.0034241422985560556"
        ],
        [
         "11045",
         "415956",
         "D003863",
         "0.000999000999000999",
         "0.0",
         "0.0066082432941176475",
         "0.0066082432941176475",
         "0.0034241422985560556"
        ],
        [
         "11049",
         "1859290",
         "D003863",
         "0.000999000999000999",
         "9.5042e-05",
         "0.023917969607843138",
         "0.023822927607843138",
         "0.0034241422985560556"
        ],
        [
         "2849",
         "39490",
         "D065626",
         "0.000999000999000999",
         "0.09236668062676057",
         "0.23749977461971833",
         "0.14513309399295776",
         "0.0034241422985560556"
        ],
        [
         "2850",
         "88431",
         "D065626",
         "0.000999000999000999",
         "0.257615132056338",
         "0.8330407788521127",
         "0.5754256467957747",
         "0.0034241422985560556"
        ],
        [
         "6993",
         "1318",
         "D000236",
         "0.000999000999000999",
         "0.030851702898550725",
         "0.22876971014492753",
         "0.19791800724637681",
         "0.0034241422985560556"
        ],
        [
         "8569",
         "84030",
         "D008103",
         "0.000999000999000999",
         "0.11243600000000001",
         "0.25920227817164176",
         "0.14676627817164176",
         "0.0034241422985560556"
        ],
        [
         "8573",
         "138595",
         "D008103",
         "0.000999000999000999",
         "0.0013682365261194031",
         "0.018239441391791046",
         "0.016871204865671643",
         "0.0034241422985560556"
        ],
        [
         "2896",
         "1685",
         "D065626",
         "0.000999000999000999",
         "0.9110338622183098",
         "0.009734079014084508",
         "-0.9012997832042253",
         "0.0034241422985560556"
        ],
        [
         "8575",
         "166486",
         "D008103",
         "0.000999000999000999",
         "0.3970814371380597",
         "1.1132256552611939",
         "0.7161442181231341",
         "0.0034241422985560556"
        ]
       ],
       "shape": {
        "columns": 7,
        "rows": 13155
       }
      },
      "text/html": [
       "<div>\n",
       "<style scoped>\n",
       "    .dataframe tbody tr th:only-of-type {\n",
       "        vertical-align: middle;\n",
       "    }\n",
       "\n",
       "    .dataframe tbody tr th {\n",
       "        vertical-align: top;\n",
       "    }\n",
       "\n",
       "    .dataframe thead th {\n",
       "        text-align: right;\n",
       "    }\n",
       "</style>\n",
       "<table border=\"1\" class=\"dataframe\">\n",
       "  <thead>\n",
       "    <tr style=\"text-align: right;\">\n",
       "      <th></th>\n",
       "      <th>taxon</th>\n",
       "      <th>disease</th>\n",
       "      <th>p_value</th>\n",
       "      <th>mean_healthy</th>\n",
       "      <th>mean_disease</th>\n",
       "      <th>diff_mean</th>\n",
       "      <th>p_adj</th>\n",
       "    </tr>\n",
       "  </thead>\n",
       "  <tbody>\n",
       "    <tr>\n",
       "      <th>2828</th>\n",
       "      <td>536633</td>\n",
       "      <td>D065626</td>\n",
       "      <td>0.000999</td>\n",
       "      <td>0.130926</td>\n",
       "      <td>0.011826</td>\n",
       "      <td>-0.119099</td>\n",
       "      <td>0.003424</td>\n",
       "    </tr>\n",
       "    <tr>\n",
       "      <th>8519</th>\n",
       "      <td>1613</td>\n",
       "      <td>D008103</td>\n",
       "      <td>0.000999</td>\n",
       "      <td>0.001510</td>\n",
       "      <td>0.095795</td>\n",
       "      <td>0.094285</td>\n",
       "      <td>0.003424</td>\n",
       "    </tr>\n",
       "    <tr>\n",
       "      <th>9902</th>\n",
       "      <td>338188</td>\n",
       "      <td>D008881</td>\n",
       "      <td>0.000999</td>\n",
       "      <td>0.244008</td>\n",
       "      <td>0.031981</td>\n",
       "      <td>-0.212027</td>\n",
       "      <td>0.003424</td>\n",
       "    </tr>\n",
       "    <tr>\n",
       "      <th>4797</th>\n",
       "      <td>64178</td>\n",
       "      <td>D003920</td>\n",
       "      <td>0.000999</td>\n",
       "      <td>0.000000</td>\n",
       "      <td>0.031189</td>\n",
       "      <td>0.031189</td>\n",
       "      <td>0.003424</td>\n",
       "    </tr>\n",
       "    <tr>\n",
       "      <th>4798</th>\n",
       "      <td>68188</td>\n",
       "      <td>D003920</td>\n",
       "      <td>0.000999</td>\n",
       "      <td>0.000000</td>\n",
       "      <td>0.094568</td>\n",
       "      <td>0.094568</td>\n",
       "      <td>0.003424</td>\n",
       "    </tr>\n",
       "    <tr>\n",
       "      <th>...</th>\n",
       "      <td>...</td>\n",
       "      <td>...</td>\n",
       "      <td>...</td>\n",
       "      <td>...</td>\n",
       "      <td>...</td>\n",
       "      <td>...</td>\n",
       "      <td>...</td>\n",
       "    </tr>\n",
       "    <tr>\n",
       "      <th>4953</th>\n",
       "      <td>437897</td>\n",
       "      <td>D003920</td>\n",
       "      <td>1.000000</td>\n",
       "      <td>0.009538</td>\n",
       "      <td>0.035989</td>\n",
       "      <td>0.026451</td>\n",
       "      <td>1.000000</td>\n",
       "    </tr>\n",
       "    <tr>\n",
       "      <th>11638</th>\n",
       "      <td>754333</td>\n",
       "      <td>D000067877</td>\n",
       "      <td>1.000000</td>\n",
       "      <td>0.000000</td>\n",
       "      <td>0.033713</td>\n",
       "      <td>0.033713</td>\n",
       "      <td>1.000000</td>\n",
       "    </tr>\n",
       "    <tr>\n",
       "      <th>4945</th>\n",
       "      <td>54291</td>\n",
       "      <td>D003920</td>\n",
       "      <td>1.000000</td>\n",
       "      <td>0.001083</td>\n",
       "      <td>0.013052</td>\n",
       "      <td>0.011968</td>\n",
       "      <td>1.000000</td>\n",
       "    </tr>\n",
       "    <tr>\n",
       "      <th>13118</th>\n",
       "      <td>216816</td>\n",
       "      <td>D013964</td>\n",
       "      <td>0.977023</td>\n",
       "      <td>0.706533</td>\n",
       "      <td>0.312629</td>\n",
       "      <td>-0.393905</td>\n",
       "      <td>1.000000</td>\n",
       "    </tr>\n",
       "    <tr>\n",
       "      <th>13067</th>\n",
       "      <td>818</td>\n",
       "      <td>D013964</td>\n",
       "      <td>0.975025</td>\n",
       "      <td>0.392604</td>\n",
       "      <td>0.396695</td>\n",
       "      <td>0.004091</td>\n",
       "      <td>1.000000</td>\n",
       "    </tr>\n",
       "  </tbody>\n",
       "</table>\n",
       "<p>13155 rows × 7 columns</p>\n",
       "</div>"
      ],
      "text/plain": [
       "        taxon     disease   p_value  mean_healthy  mean_disease  diff_mean  \\\n",
       "2828   536633     D065626  0.000999      0.130926      0.011826  -0.119099   \n",
       "8519     1613     D008103  0.000999      0.001510      0.095795   0.094285   \n",
       "9902   338188     D008881  0.000999      0.244008      0.031981  -0.212027   \n",
       "4797    64178     D003920  0.000999      0.000000      0.031189   0.031189   \n",
       "4798    68188     D003920  0.000999      0.000000      0.094568   0.094568   \n",
       "...       ...         ...       ...           ...           ...        ...   \n",
       "4953   437897     D003920  1.000000      0.009538      0.035989   0.026451   \n",
       "11638  754333  D000067877  1.000000      0.000000      0.033713   0.033713   \n",
       "4945    54291     D003920  1.000000      0.001083      0.013052   0.011968   \n",
       "13118  216816     D013964  0.977023      0.706533      0.312629  -0.393905   \n",
       "13067     818     D013964  0.975025      0.392604      0.396695   0.004091   \n",
       "\n",
       "          p_adj  \n",
       "2828   0.003424  \n",
       "8519   0.003424  \n",
       "9902   0.003424  \n",
       "4797   0.003424  \n",
       "4798   0.003424  \n",
       "...         ...  \n",
       "4953   1.000000  \n",
       "11638  1.000000  \n",
       "4945   1.000000  \n",
       "13118  1.000000  \n",
       "13067  1.000000  \n",
       "\n",
       "[13155 rows x 7 columns]"
      ]
     },
     "metadata": {},
     "output_type": "display_data"
    }
   ],
   "source": [
    "# SPECIES LEVEL MONTE CARLO PERMUTATIION FOR IDENTIFICATION OF DIFFERENTAILLY ABUNDANT TAXA - SPECIES LEVEL -STEP 2\n",
    "# ---------------------------\n",
    "# Configuration\n",
    "# ---------------------------\n",
    "HEALTHY_CODE = \"D006262\"\n",
    "N_PERMUTATIONS = 1000\n",
    "RANDOM_SEED = 42\n",
    "\n",
    "# ---------------------------\n",
    "# Permutation Test Function\n",
    "# ---------------------------\n",
    "def permutation_test(x, y, num_permutations=N_PERMUTATIONS, stat_func=np.mean):\n",
    "    observed = stat_func(y) - stat_func(x)\n",
    "    combined = np.concatenate([x, y])\n",
    "    count = 0\n",
    "    for _ in range(num_permutations):\n",
    "        np.random.shuffle(combined)\n",
    "        new_x = combined[:len(x)]\n",
    "        new_y = combined[len(x):]\n",
    "        perm_stat = stat_func(new_y) - stat_func(new_x)\n",
    "        if abs(perm_stat) >= abs(observed):\n",
    "            count += 1\n",
    "    return (count + 1) / (num_permutations + 1)\n",
    "\n",
    "# ---------------------------\n",
    "# Prepare Data\n",
    "# ---------------------------\n",
    "disease_codes_species = df_species_retained['disease'].unique()\n",
    "disease_codes_species = [d for d in disease_codes_species if d != HEALTHY_CODE]\n",
    "\n",
    "healthy_df_species = df_species_retained[df_species_retained['disease'] == HEALTHY_CODE]\n",
    "healthy_uids_species = healthy_df_species['loaded_uid'].unique()\n",
    "\n",
    "# ---------------------------\n",
    "# Run Permutation Testing\n",
    "# ---------------------------\n",
    "results_species = []\n",
    "rng = np.random.default_rng(RANDOM_SEED)\n",
    "\n",
    "for disease_code in tqdm(disease_codes_species, desc=\"Diseases\", position=0):\n",
    "    disease_df_species = df_species_retained[df_species_retained['disease'] == disease_code]\n",
    "    disease_uids_species = disease_df_species['loaded_uid'].unique()\n",
    "    disease_taxa_species = disease_df_species['ncbi_taxon_id'].unique()\n",
    "\n",
    "    for taxon in tqdm(disease_taxa_species, desc=f\"Taxa in {disease_code}\", position=1, leave=False):\n",
    "        disease_series = disease_df_species[disease_df_species['ncbi_taxon_id'] == taxon].set_index('loaded_uid')['relative_abundance']\n",
    "        healthy_series = healthy_df_species[healthy_df_species['ncbi_taxon_id'] == taxon].set_index('loaded_uid')['relative_abundance']\n",
    "\n",
    "        disease_vals = disease_series.reindex(disease_uids_species, fill_value=0).values\n",
    "        healthy_vals = healthy_series.reindex(healthy_uids_species, fill_value=0).values\n",
    "\n",
    "        # Skip if absent in both groups\n",
    "        if np.all(disease_vals == 0) and np.all(healthy_vals == 0):\n",
    "            continue\n",
    "\n",
    "        # Skip if present in healthy but completely absent in disease\n",
    "        if np.any(healthy_vals > 0) and np.all(disease_vals == 0):\n",
    "            continue\n",
    "\n",
    "        # Downsample to equal sample size\n",
    "        if len(healthy_vals) > len(disease_vals):\n",
    "            healthy_vals = rng.choice(healthy_vals, size=len(disease_vals), replace=False)\n",
    "        elif len(disease_vals) > len(healthy_vals):\n",
    "            disease_vals = rng.choice(disease_vals, size=len(healthy_vals), replace=False)\n",
    "\n",
    "        # Run permutation test\n",
    "        p_val = permutation_test(healthy_vals, disease_vals)\n",
    "\n",
    "        # Store result\n",
    "        results_species.append({\n",
    "            'taxon': taxon,\n",
    "            'disease': disease_code,\n",
    "            'p_value': p_val,\n",
    "            'mean_healthy': np.mean(healthy_vals),\n",
    "            'mean_disease': np.mean(disease_vals),\n",
    "            'diff_mean': np.mean(disease_vals) - np.mean(healthy_vals)\n",
    "        })\n",
    "\n",
    "# ---------------------------\n",
    "# Process Results\n",
    "# ---------------------------\n",
    "results_df_species = pd.DataFrame(results_species)\n",
    "\n",
    "if not results_df_species.empty:\n",
    "    # FDR correction\n",
    "    results_df_species['p_adj'] = multipletests(results_df_species['p_value'], method='fdr_bh')[1]\n",
    "\n",
    "    # Summary Table\n",
    "    summary_table_species = (\n",
    "        results_df_species\n",
    "        .groupby(\"disease\")\n",
    "        .agg(\n",
    "            n_taxa_tested=(\"taxon\", \"nunique\"),\n",
    "            n_significant=(\"p_adj\", lambda x: (x < 0.05).sum())\n",
    "        )\n",
    "        .sort_values(\"n_taxa_tested\", ascending=False)\n",
    "    )\n",
    "\n",
    "    # ---------------------------\n",
    "    # Plot with disease names\n",
    "    # ---------------------------\n",
    "    plot_df_species = summary_table_species.reset_index()\n",
    "    plot_df_species['disease_name'] = plot_df_species['disease'].map(disease_dict).fillna(plot_df_species['disease'])\n",
    "    plot_df_species = plot_df_species.sort_values(\"n_taxa_tested\", ascending=False)\n",
    "\n",
    "    plt.figure(figsize=(22, 10))\n",
    "    x = np.arange(len(plot_df_species))\n",
    "    width = 0.35\n",
    "\n",
    "    plt.bar(x - width/2, plot_df_species['n_taxa_tested'], width=width, label='Tested Taxa',\n",
    "            color='lightgrey', edgecolor='black', linewidth=0.8)\n",
    "    plt.bar(x + width/2, plot_df_species['n_significant'], width=width, label='Significant (FDR < 0.05)',\n",
    "            color='teal', edgecolor='black', linewidth=0.8)\n",
    "\n",
    "    plt.xticks(x, plot_df_species['disease_name'], rotation=90)\n",
    "    plt.ylabel(\"Number of Unique Taxa\")\n",
    "    plt.title(\"Differentially Abundant Taxa per Disease (species Level)\", fontweight='bold')\n",
    "    plt.legend()\n",
    "    plt.margins(x=0.01)  # Reduce side padding\n",
    "    plt.tight_layout()\n",
    "    plt.show()\n",
    "\n",
    "    # ---------------------------\n",
    "    # Create filtered sample-level data with only significant taxa\n",
    "    # ---------------------------\n",
    "    sig_taxa_species = results_df_species.query(\"p_adj < 0.05\")[[\"disease\", \"taxon\"]].drop_duplicates()\n",
    "    df_species_significant = df_species_retained.merge(\n",
    "        sig_taxa_species,\n",
    "        left_on=[\"disease\", \"ncbi_taxon_id\"],\n",
    "        right_on=[\"disease\", \"taxon\"],\n",
    "        how=\"inner\"\n",
    "    ).drop(columns=\"taxon\")\n",
    "\n",
    "    # ---------------------------\n",
    "    # Descriptive Summary\n",
    "    # ---------------------------\n",
    "    print(\"✅ PERMUTATION TESTING COMPLETE\")\n",
    "    print(f\"• Total diseases tested: {len(summary_table_species)}\")\n",
    "    print(f\"• Total (disease, taxon) pairs tested: {results_df_species.shape[0]}\")\n",
    "    print(f\"• Total significant pairs (FDR < 0.05): {(results_df_species['p_adj'] < 0.05).sum()}\")\n",
    "    print(f\"• Shape of df_species_significant: {df_species_significant.shape}\")\n",
    "    print(f\"• Unique significant taxa: {df_species_significant['ncbi_taxon_id'].nunique()}\")\n",
    "    print(f\"• Diseases with significant taxa: {df_species_significant['disease'].nunique()}\")\n",
    "    \n",
    "    # ---------------------------\n",
    "    # Save Significant Taxa Data\n",
    "    # ---------------------------\n",
    "    df_species_significant.to_csv(\"/mnt/iusers01/fatpou01/bmh01/msc-bioinf-2024-2025/h44063jg/gmp_jms/significant_species_taxa.txt\", sep=\"\\t\", index=False)\n",
    "    print(\"📁 Saved significant species-level taxa to 'significant_species_taxa.txt'\")  \n",
    "\n",
    "    display(summary_table_species)\n",
    "    display(results_df_species.sort_values(\"p_adj\"))\n",
    "\n",
    "else:\n",
    "    print(\"⚠️ No valid taxa comparisons passed filtering.\")\n"
   ]
  },
  {
   "cell_type": "code",
   "execution_count": 9,
   "id": "5dee086b",
   "metadata": {},
   "outputs": [
    {
     "name": "stderr",
     "output_type": "stream",
     "text": [
      "/tmp/slurm.6405751/ipykernel_507027/3434524326.py:40: UserWarning: This figure includes Axes that are not compatible with tight_layout, so results might be incorrect.\n",
      "  plt.tight_layout()\n"
     ]
    },
    {
     "data": {
      "image/png": "[encoded data removed]",
      "text/plain": [
       "<Figure size 2200x700 with 2 Axes>"
      ]
     },
     "metadata": {},
     "output_type": "display_data"
    }
   ],
   "source": [
    "# COMBINED PLOTTING OF GENUS AND SPECIES LEVEL RESULTS\n",
    "\n",
    "# ---- Map disease codes to names and align order ----\n",
    "summary_table_genus_plot = summary_table_genus.reset_index().copy()\n",
    "summary_table_species_plot = summary_table_species.reset_index().copy()\n",
    "\n",
    "summary_table_genus_plot['disease_name'] = summary_table_genus_plot['disease'].map(disease_dict).fillna(summary_table_genus_plot['disease'])\n",
    "summary_table_species_plot['disease_name'] = summary_table_species_plot['disease'].map(disease_dict).fillna(summary_table_species_plot['disease'])\n",
    "\n",
    "# ---- Sort by genus taxa tested (for consistent x-axis) ----\n",
    "summary_table_genus_plot = summary_table_genus_plot.sort_values(\"n_taxa_tested\", ascending=False)\n",
    "sorted_diseases = summary_table_genus_plot['disease']\n",
    "\n",
    "# ---- Reorder species table to match genus order ----\n",
    "summary_table_species_plot['disease'] = pd.Categorical(summary_table_species_plot['disease'], categories=sorted_diseases, ordered=True)\n",
    "summary_table_species_plot = summary_table_species_plot.sort_values(\"disease\")\n",
    "\n",
    "# ---- Plotting ----\n",
    "x = np.arange(len(summary_table_genus_plot))\n",
    "width = 0.35\n",
    "\n",
    "fig, axs = plt.subplots(2, 1, figsize=(22, 7), sharex=True, gridspec_kw={'hspace': 0.15})\n",
    "\n",
    "# === Genus-level plot ===\n",
    "axs[0].bar(x - width/2, summary_table_genus_plot['n_taxa_tested'], width=width, label='Tested Taxa', color='lightgrey', edgecolor='black')\n",
    "axs[0].bar(x + width/2, summary_table_genus_plot['n_significant'], width=width, label='Significant (FDR < 0.05)', color='teal', edgecolor='black')\n",
    "axs[0].set_ylabel(\"Number of Unique Genera\", fontsize=12)\n",
    "axs[0].set_title(\"Genus-Level Differential Abundance (Healthy vs Disease)\", fontweight='bold', fontsize=14)\n",
    "axs[0].legend()\n",
    "\n",
    "# === Species-level plot ===\n",
    "axs[1].bar(x - width/2, summary_table_species_plot['n_taxa_tested'], width=width, label='Tested Taxa', color='lightgrey', edgecolor='black')\n",
    "axs[1].bar(x + width/2, summary_table_species_plot['n_significant'], width=width, label='Significant (FDR < 0.05)', color='crimson', edgecolor='black')\n",
    "axs[1].set_ylabel(\"Number of Unique Species\", fontsize=12)\n",
    "axs[1].set_title(\"Species-Level Differential Abundance (Healthy vs Disease)\", fontweight='bold', fontsize=14)\n",
    "axs[1].set_xticks(x)\n",
    "axs[1].set_xticklabels(summary_table_genus_plot['disease_name'], rotation=90)\n",
    "axs[1].legend()\n",
    "\n",
    "plt.tight_layout()\n",
    "plt.show()\n"
   ]
  }
 ],
 "metadata": {
  "kernelspec": {
   "display_name": "Environment (mam_myenv)",
   "language": "python",
   "name": "mam_myenv"
  }
 },
 "nbformat": 4,
 "nbformat_minor": 5
}
