{
 "cells": [
  {
   "cell_type": "markdown",
   "id": "c238e162",
   "metadata": {},
   "source": [
    "### <span style=\"color:teal\"> __DISEASE DICTIONARY MAPPING__\n",
    "____"
   ]
  },
  {
   "cell_type": "code",
   "execution_count": 1,
   "id": "5a1ec0b5",
   "metadata": {},
   "outputs": [],
   "source": [
    "import pandas as pd\n",
    "import json\n",
    "import requests\n",
    "import time\n",
    "import os\n",
    "import xml.etree.ElementTree as ET\n",
    "from tqdm import tqdm\n",
    "from collections import defaultdict"
   ]
  },
  {
   "cell_type": "markdown",
   "id": "3a40f56f",
   "metadata": {},
   "source": [
    "This block constructs a clean disease dictionary and enriches it with MeSH hierarchy so the dataset can be grouped biologically in later steps. It begins by resolving each input MeSH disease code (`disease_list`) to a MeSH UID via NCBI E-utilities (`esearch`), handling timeouts and logging any codes that cannot be resolved; it then batches those UIDs through `esummary` to fetch the preferred disease term and builds `disease_dict` (code → human-readable name), assigning `\"Unknown\"` where no UID or term is found and saving the result to JSON. Next, it parses the local MeSH descriptor XML (`desc2025.xml`) and indexes the thesaurus (UID → name, UID → tree numbers, and tree number → UID). Using these indices, it augments each entry with its full set of MeSH tree numbers, its direct parents (by trimming each tree path), and its top-level MeSH categories (by taking the first segment of each tree number and looking up the corresponding descriptor). That enriched structure is written to `disease_category.json` as a **traceable, intermediate file** capturing the full hierarchy for audit and inspection. Finally, it distills a compact **disease classification** mapping (disease code → list of top categories) and saves it as `disease_classification.json`; **this classification is the artifact intended for downstream analyses** (e.g., stratifying cohorts, filtering by category families, or summarizing burden by MeSH sections), while `disease_category.json` remains an intermediate reference to support transparency and reproducibility."
   ]
  },
  {
   "cell_type": "code",
   "execution_count": 2,
   "id": "855add7d",
   "metadata": {},
   "outputs": [
    {
     "name": "stdout",
     "output_type": "stream",
     "text": [
      "📊 Disease Column Summary\n",
      "----------------------------\n",
      "🔹 Total rows             : 66118\n",
      "🔹 Missing disease labels: 6969\n",
      "🔹 Unique values (without NaN) - Total diseases types in the whole dataset: 92\n"
     ]
    }
   ],
   "source": [
    "# Load the main dataset (GMRepo 'sample_to_disease_info.txt')\n",
    "df = pd.read_csv(\"/mnt/iusers01/fatpou01/bmh01/msc-bioinf-2024-2025/h44063jg/gm_repository/sample_to_disease_info.txt\", sep = '\\t')\n",
    "\n",
    "# Descriptive summary of 'disease' column\n",
    "total_entries = len(df)\n",
    "missing_disease = df['disease'].isnull().sum()\n",
    "unique_without_nan = df['disease'].nunique()\n",
    "\n",
    "print(\"📊 Disease Column Summary\")\n",
    "print(\"----------------------------\")\n",
    "print(f\"🔹 Total rows             : {total_entries}\")\n",
    "print(f\"🔹 Missing disease labels: {missing_disease}\")\n",
    "print(f\"🔹 Unique values (without NaN) - Total diseases types in the whole dataset: {unique_without_nan}\")\n",
    "\n",
    "# Get list of unique non-null disease names\n",
    "disease_list = sorted(df['disease'].dropna().unique().tolist())"
   ]
  },
  {
   "cell_type": "code",
   "execution_count": 3,
   "id": "85918bfa",
   "metadata": {},
   "outputs": [
    {
     "name": "stderr",
     "output_type": "stream",
     "text": [
      "Fetching disease names (phenotyes) from NLM-MeSH website using MESH IDs (disease codes): 100%|██████████| 92/92 [00:50<00:00,  1.82it/s]\n",
      "Fetching MeSH terms in batch: 100%|██████████| 1/1 [00:00<00:00,  1.81it/s]"
     ]
    },
    {
     "name": "stdout",
     "output_type": "stream",
     "text": [
      "\n",
      "Finished: 92 MeSH IDs processed\n",
      "Found (with term): 92\n",
      "Unknown: 0\n",
      "Not found (no UID resolved): 0\n"
     ]
    },
    {
     "name": "stderr",
     "output_type": "stream",
     "text": [
      "\n"
     ]
    }
   ],
   "source": [
    "# Fetching disease names (phenotyes) from NCBI-MeSH website\n",
    "API_KEY = \"87fdd45a6ee743fecdbd1b7e9f010d669109\"\n",
    "BATCH_SIZE = 200\n",
    "\n",
    "def get_uids_for_mesh_ids(mesh_ids):\n",
    "    uid_map = {}\n",
    "    not_found = []\n",
    "    for mesh_id in tqdm(mesh_ids, desc=\"Fetching disease names (phenotyes) from NLM-MeSH website using MESH IDs (disease codes)\"):\n",
    "        url = \"https://eutils.ncbi.nlm.nih.gov/entrez/eutils/esearch.fcgi\"\n",
    "        params = {\n",
    "            'db': 'mesh',\n",
    "            'term': mesh_id,\n",
    "            'retmode': 'json',\n",
    "            'api_key': API_KEY\n",
    "        }\n",
    "        try:\n",
    "            r = requests.get(url, params=params, timeout=10)\n",
    "            r.raise_for_status()\n",
    "            ids = r.json().get('esearchresult', {}).get('idlist', [])\n",
    "            if ids:\n",
    "                uid_map[mesh_id] = ids[0]\n",
    "            else:\n",
    "                not_found.append(mesh_id)\n",
    "        except Exception as e:\n",
    "            print(f\"Error resolving {mesh_id}: {e}\")\n",
    "            not_found.append(mesh_id)\n",
    "        time.sleep(0.2)\n",
    "    return uid_map, not_found\n",
    "\n",
    "def fetch_mesh_terms_batch(uid_batch):\n",
    "    url = \"https://eutils.ncbi.nlm.nih.gov/entrez/eutils/esummary.fcgi\"\n",
    "    params = {\n",
    "        'db': 'mesh',\n",
    "        'id': \",\".join(uid_batch),\n",
    "        'retmode': 'json',\n",
    "        'api_key': API_KEY\n",
    "    }\n",
    "    try:\n",
    "        r = requests.get(url, params=params, timeout=15)\n",
    "        r.raise_for_status()\n",
    "        data = r.json().get('result', {})\n",
    "        return {uid: data[uid]['ds_meshterms'][0] for uid in uid_batch if uid in data and 'ds_meshterms' in data[uid]}\n",
    "    except Exception as e:\n",
    "        print(f\"Batch fetch error: {e}\")\n",
    "        return {}\n",
    "\n",
    "# Step 1: Get UIDs for MeSH IDs\n",
    "disease_dict = {}\n",
    "uid_map, mesh_not_found = get_uids_for_mesh_ids(disease_list)\n",
    "uids = list(uid_map.values())\n",
    "\n",
    "# Step 2: Batch fetch MeSH terms using UIDs\n",
    "for i in tqdm(range(0, len(uids), BATCH_SIZE), desc=\"Fetching MeSH terms in batch\"):\n",
    "    batch = uids[i:i + BATCH_SIZE]\n",
    "    terms = fetch_mesh_terms_batch(batch)\n",
    "    for mesh_id, uid in uid_map.items():\n",
    "        if uid in terms:\n",
    "            try:\n",
    "                disease_dict[int(mesh_id)] = str(terms[uid])\n",
    "            except Exception:\n",
    "                disease_dict[mesh_id] = str(terms[uid])\n",
    "\n",
    "# Step 3: Add 'Unknown' for not found\n",
    "for mesh_id in disease_list:\n",
    "    try:\n",
    "        key = int(mesh_id)\n",
    "    except Exception:\n",
    "        key = mesh_id\n",
    "    if key not in disease_dict:\n",
    "        disease_dict[key] = \"Unknown\"\n",
    "\n",
    "# Step 4: Save as JSON\n",
    "with open(\"/mnt/iusers01/fatpou01/bmh01/msc-bioinf-2024-2025/h44063jg/gmp_jms/disease_dict.json\", \"w\") as f:\n",
    "    json.dump({str(k): v for k, v in disease_dict.items()}, f, indent=2)\n",
    "\n",
    "# Final report\n",
    "found_count = sum(v != \"Unknown\" for v in disease_dict.values())\n",
    "unknown_count = sum(v == \"Unknown\" for v in disease_dict.values())\n",
    "not_found_count = len(mesh_not_found)\n",
    "\n",
    "print(f\"\\nFinished: {len(disease_dict)} MeSH IDs processed\")\n",
    "print(f\"Found (with term): {found_count}\")\n",
    "print(f\"Unknown: {unknown_count}\")\n",
    "print(f\"Not found (no UID resolved): {not_found_count}\")\n",
    "\n",
    "if not_found_count > 0:\n",
    "    print(f\"MeSH IDs not found: {mesh_not_found}\")"
   ]
  },
  {
   "cell_type": "code",
   "execution_count": 4,
   "id": "af7a01e1",
   "metadata": {},
   "outputs": [
    {
     "name": "stdout",
     "output_type": "stream",
     "text": [
      "📂 Parsing MeSH XML...\n",
      "✅ Indexed 30956 descriptors and 64883 tree paths.\n",
      "\n",
      "✅ Saved full disease hierarchy info to: /mnt/iusers01/fatpou01/bmh01/msc-bioinf-2024-2025/h44063jg/gmp_jms/disease_category.json\n"
     ]
    }
   ],
   "source": [
    "# === File paths ===\n",
    "MESH_XML_PATH = \"/mnt/iusers01/fatpou01/bmh01/msc-bioinf-2024-2025/h44063jg/gmp_jms/desc2025.xml\"\n",
    "\n",
    "\n",
    "# === Step 1: Parse the XML ===\n",
    "print(\"📂 Parsing MeSH XML...\")\n",
    "tree = ET.parse(MESH_XML_PATH)\n",
    "root = tree.getroot()\n",
    "\n",
    "# Build mappings:\n",
    "uid_to_name = {}\n",
    "uid_to_tree_numbers = {}\n",
    "tree_number_to_uid = {}\n",
    "\n",
    "for record in root.findall(\"DescriptorRecord\"):\n",
    "    uid = record.findtext(\"DescriptorUI\")\n",
    "    name = record.findtext(\"DescriptorName/String\")\n",
    "    tree_numbers = [tn.text for tn in record.findall(\".//TreeNumberList/TreeNumber\")]\n",
    "\n",
    "    uid_to_name[uid] = name\n",
    "    uid_to_tree_numbers[uid] = tree_numbers\n",
    "\n",
    "    for tn in tree_numbers:\n",
    "        tree_number_to_uid[tn] = uid\n",
    "\n",
    "print(f\"✅ Indexed {len(uid_to_name)} descriptors and {len(tree_number_to_uid)} tree paths.\\n\")\n",
    "\n",
    "# === Step 2: Use existing `disease_dict` already loaded ===\n",
    "# (Assume disease_dict is already defined earlier in the notebook/script)\n",
    "\n",
    "# === Step 3: For each disease, find its tree numbers, parents, and top-level categories ===\n",
    "output = {}\n",
    "\n",
    "for uid, disease_name in disease_dict.items():\n",
    "    tree_numbers = uid_to_tree_numbers.get(uid, [])\n",
    "    parents = []\n",
    "    top_categories = []\n",
    "\n",
    "    for tn in tree_numbers:\n",
    "        # Get parent by trimming last part\n",
    "        parts = tn.split('.')\n",
    "        if len(parts) > 1:\n",
    "            parent_tn = '.'.join(parts[:-1])\n",
    "            parent_uid = tree_number_to_uid.get(parent_tn)\n",
    "            if parent_uid:\n",
    "                parent_name = uid_to_name.get(parent_uid)\n",
    "                if parent_name:\n",
    "                    parents.append(parent_name)\n",
    "\n",
    "        # Get topmost category (first segment)\n",
    "        top_tn = parts[0]\n",
    "        top_uid = tree_number_to_uid.get(top_tn)\n",
    "        if top_uid:\n",
    "            top_name = uid_to_name.get(top_uid)\n",
    "            if top_name:\n",
    "                top_categories.append(top_name)\n",
    "\n",
    "    output[uid] = {\n",
    "        \"name\": disease_name,\n",
    "        \"tree_numbers\": tree_numbers,\n",
    "        \"parents\": sorted(set(parents)),\n",
    "        \"top_categories\": sorted(set(top_categories))\n",
    "    }\n",
    "\n",
    "# === Step 4: Save result ===\n",
    "import os\n",
    "\n",
    "# === Step 4: Save result ===\n",
    "output_path = \"/mnt/iusers01/fatpou01/bmh01/msc-bioinf-2024-2025/h44063jg/gmp_jms/disease_category.json\"\n",
    "\n",
    "# Create directory if it doesn't exist\n",
    "os.makedirs(os.path.dirname(output_path), exist_ok=True)\n",
    "\n",
    "# Save JSON\n",
    "with open(output_path, \"w\") as f:\n",
    "    json.dump(output, f, indent=2)\n",
    "\n",
    "print(f\"✅ Saved full disease hierarchy info to: {output_path}\")"
   ]
  },
  {
   "cell_type": "code",
   "execution_count": 5,
   "id": "344c8cdb",
   "metadata": {},
   "outputs": [],
   "source": [
    "# Open the JSON file containing disease name mappings\n",
    "with open(\"/mnt/iusers01/fatpou01/bmh01/msc-bioinf-2024-2025/h44063jg/microbiome_project/resources/disease_dict.json\", \"r\") as f:\n",
    "    # Load the contents of the JSON file into a Python dictionary\n",
    "    disease_dict = json.load(f)\n",
    "    \n",
    "with open(\"/mnt/iusers01/fatpou01/bmh01/msc-bioinf-2024-2025/h44063jg/microbiome_project/resources/disease_category.json\", \"r\") as f:\n",
    "    disease_category = json.load(f)"
   ]
  },
  {
   "cell_type": "code",
   "execution_count": 6,
   "id": "a65c60e9",
   "metadata": {},
   "outputs": [
    {
     "name": "stdout",
     "output_type": "stream",
     "text": [
      "Saved to disease_classification.json\n",
      "Number of unique top categories: 24\n"
     ]
    },
    {
     "data": {
      "text/plain": [
       "{'Bacterial Infections',\n",
       " 'Behavior and Behavior Mechanisms',\n",
       " 'Cardiovascular Diseases',\n",
       " 'Congenital, Hereditary, and Neonatal Diseases and Abnormalities',\n",
       " 'Digestive System Diseases',\n",
       " 'Endocrine System Diseases',\n",
       " 'Eye Diseases',\n",
       " 'Health',\n",
       " 'Hemic and Lymphatic Diseases',\n",
       " 'Immune System Diseases',\n",
       " 'Infant, Newborn, Diseases',\n",
       " 'Infections',\n",
       " 'Mental Disorders',\n",
       " 'Musculoskeletal Diseases',\n",
       " 'Neoplasms',\n",
       " 'Nervous System Diseases',\n",
       " 'Nutritional and Metabolic Diseases',\n",
       " 'Pregnancy',\n",
       " 'Respiratory Tract Diseases',\n",
       " 'Signs and Symptoms, Digestive',\n",
       " 'Skin and Connective Tissue Diseases',\n",
       " 'Stomatognathic Diseases',\n",
       " 'Urogenital Diseases',\n",
       " 'Viral Infections'}"
      ]
     },
     "execution_count": 6,
     "metadata": {},
     "output_type": "execute_result"
    }
   ],
   "source": [
    "# Extract all unique top categories from the dictionary\n",
    "unique_top_categories = sorted({\n",
    "    cat\n",
    "    for meta in disease_category.values()\n",
    "    for cat in meta.get(\"top_categories\", [])\n",
    "    if cat  # Avoid empty strings\n",
    "})\n",
    "# Extracts all unique top catgories.\n",
    "\n",
    "# Create dictionary\n",
    "disease_code_to_top_categories = {\n",
    "    code: meta.get(\"top_categories\", [])\n",
    "    for code, meta in disease_category.items()\n",
    "}\n",
    "\n",
    "# Save to JSON\n",
    "with open(\"disease_classification.json\", \"w\") as f:\n",
    "    json.dump(disease_code_to_top_categories, f, indent=4)\n",
    "\n",
    "print(\"Saved to disease_classification.json\")\n",
    "\n",
    "\n",
    "# Get all unique categories across all values in the dictionary\n",
    "unique_categories = {\n",
    "    cat\n",
    "    for categories in disease_code_to_top_categories.values()\n",
    "    for cat in categories\n",
    "}\n",
    "\n",
    "print(f\"Number of unique top categories: {len(unique_categories)}\")\n",
    "unique_categories  # optional, to see them"
   ]
  }
 ],
 "metadata": {
  "kernelspec": {
   "display_name": "mam_myenv",
   "language": "python",
   "name": "python3"
  },
  "language_info": {
   "codemirror_mode": {
    "name": "ipython",
    "version": 3
   },
   "file_extension": ".py",
   "mimetype": "text/x-python",
   "name": "python",
   "nbconvert_exporter": "python",
   "pygments_lexer": "ipython3",
   "version": "3.10.18"
  }
 },
 "nbformat": 4,
 "nbformat_minor": 5
}
